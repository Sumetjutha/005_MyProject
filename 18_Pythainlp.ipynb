{
  "nbformat": 4,
  "nbformat_minor": 0,
  "metadata": {
    "colab": {
      "name": "18_Pythainlp.ipynb",
      "private_outputs": true,
      "provenance": [],
      "collapsed_sections": [],
      "mount_file_id": "1pvHANYTve908Up_BC5nX3EoxSIbm0Rk9",
      "authorship_tag": "ABX9TyO6bq3ZptJCpGFN9C5ULu2I",
      "include_colab_link": true
    },
    "kernelspec": {
      "name": "python3",
      "display_name": "Python 3"
    }
  },
  "cells": [
    {
      "cell_type": "markdown",
      "metadata": {
        "id": "view-in-github",
        "colab_type": "text"
      },
      "source": [
        "<a href=\"https://colab.research.google.com/github/Sumetjutha/MyProject/blob/main/18_Pythainlp.ipynb\" target=\"_parent\"><img src=\"https://colab.research.google.com/assets/colab-badge.svg\" alt=\"Open In Colab\"/></a>"
      ]
    },
    {
      "cell_type": "code",
      "metadata": {
        "id": "wp0z8uAeEQAc"
      },
      "source": [
        "!pip install pythainlp"
      ],
      "execution_count": null,
      "outputs": []
    },
    {
      "cell_type": "code",
      "metadata": {
        "id": "7lwFlGNxEEmy"
      },
      "source": [
        "import pythainlp\r\n",
        "from pythainlp.tokenize import word_tokenize\r\n",
        "from pythainlp.util import normalize\r\n",
        "from pythainlp.spell import correct"
      ],
      "execution_count": null,
      "outputs": []
    },
    {
      "cell_type": "code",
      "metadata": {
        "id": "lMbUq5TVExJ4"
      },
      "source": [
        "text = \"หิวข้าวแล้ว จะะกินข้าว\"\r\n",
        "text = word_tokenize(text,keep_whitespace=False,engine=\"longest\")\r\n",
        "print(text)"
      ],
      "execution_count": null,
      "outputs": []
    },
    {
      "cell_type": "code",
      "metadata": {
        "id": "d33Xq2oHFnwZ"
      },
      "source": [
        "text = \"หิวข้าวแล้ว จะะกินข้าว\"\r\n",
        "def nlp_thai(text):\r\n",
        "  text = word_tokenize(text,keep_whitespace=False,engine=\"longest\")\r\n",
        "  text = [normalize(word)for word in text]\r\n",
        "  return text\r\n",
        "nlp_thai(text)"
      ],
      "execution_count": null,
      "outputs": []
    },
    {
      "cell_type": "code",
      "metadata": {
        "id": "Bb5KmN_YGksJ"
      },
      "source": [
        "print(nlp_thai(\"ฉันอยากลาออก กูจะเปลี่ยนงานใหม่\"))"
      ],
      "execution_count": null,
      "outputs": []
    },
    {
      "cell_type": "code",
      "metadata": {
        "id": "vUb6p5TdGOCU"
      },
      "source": [
        "import pandas as pd\r\n",
        "df_neg = pd.read_csv(\"/content/drive/MyDrive/neg.txt\",header=None)\r\n",
        "df_neutral = pd.read_csv(\"/content/drive/MyDrive/neutral.txt\",header=None)\r\n",
        "df_pos = pd.read_csv('/content/drive/MyDrive/pos.txt',header=None)\r\n",
        "df_neg[\"sentiment\"] = \"neg\"\r\n",
        "df_neutral[\"sentiment\"] = \"neut\"\r\n",
        "df_pos[\"sentiment\"] = \"pos\"\r\n",
        "df=pd.concat([df_neg,df_neutral,df_pos],axis=0,ignore_index=True)\r\n",
        "df[\"sentence\"]=df[0].apply(nlp_thai)\r\n",
        "df=df.drop(columns=0)\r\n",
        "df=df.drop(columns=\"sentence\").join(pd.get_dummies(pd.DataFrame(df[\"sentence\"].tolist()).stack()).astype(int).sum(level=0))\r\n",
        "df"
      ],
      "execution_count": null,
      "outputs": []
    },
    {
      "cell_type": "code",
      "metadata": {
        "id": "HF3Kdvm2QdFw"
      },
      "source": [
        "# Complete Working Example of Your First XGBoost Model\r\n",
        "# Import dependencies \r\n",
        "from numpy import loadtxt\r\n",
        "from xgboost import XGBClassifier\r\n",
        "from sklearn.model_selection import train_test_split\r\n",
        "from sklearn.metrics import accuracy_score\r\n",
        "import pandas as pd"
      ],
      "execution_count": null,
      "outputs": []
    },
    {
      "cell_type": "code",
      "metadata": {
        "id": "Pr7PSEZvQnJZ"
      },
      "source": [
        "X = df.drop(columns=\"sentiment\")\r\n",
        "y = df[\"sentiment\"]"
      ],
      "execution_count": null,
      "outputs": []
    },
    {
      "cell_type": "code",
      "metadata": {
        "id": "N18jQmQFQizs"
      },
      "source": [
        "# Split data into train and test sets\r\n",
        "seed = 1\r\n",
        "test_size = 0.33\r\n",
        "X_train, X_test, y_train, y_test =  train_test_split(X, y, test_size=test_size,random_state=seed)\r\n",
        "# Fit on model training data\r\n",
        "model = XGBClassifier()\r\n",
        "model.fit(X_train, y_train)\r\n",
        "# Summarize the XGBoost model\r\n",
        "print(model)\r\n",
        "# Make Predictions with the XGBoost model for test_data\r\n",
        "predictions = model.predict(X_test)\r\n",
        "# Evaluate predictions\r\n",
        "accuracy = accuracy_score(y_test, predictions)\r\n",
        "print(\"Accuracy: %.2f%%\" % (accuracy * 100.0))"
      ],
      "execution_count": null,
      "outputs": []
    },
    {
      "cell_type": "code",
      "metadata": {
        "id": "BpPV2NM0RBl2"
      },
      "source": [
        "# Complete Working Example of Your First XGBoost Model\r\n",
        "# Import dependencies \r\n",
        "from numpy import loadtxt\r\n",
        "from xgboost import XGBClassifier\r\n",
        "from sklearn.model_selection import train_test_split\r\n",
        "from sklearn.metrics import accuracy_score\r\n",
        "import pandas as pd\r\n",
        "from lightgbm import LGBMClassifier\r\n",
        "# Split data into train and test sets\r\n",
        "seed = 1\r\n",
        "test_size = 0.33\r\n",
        "X_train, X_test, y_train, y_test =  train_test_split(X, y, test_size=test_size,random_state=seed)\r\n",
        "# Fit on model training data\r\n",
        "model = LGBMClassifier()\r\n",
        "model.fit(X_train, y_train)\r\n",
        "# Summarize the XGBoost model\r\n",
        "print(model)\r\n",
        "# Make Predictions with the XGBoost model for test_data\r\n",
        "predictions = model.predict(X_test)\r\n",
        "# Evaluate predictions\r\n",
        "accuracy = accuracy_score(y_test, predictions)\r\n",
        "print(\"Accuracy: %.2f%%\" % (accuracy * 100.0))"
      ],
      "execution_count": null,
      "outputs": []
    },
    {
      "cell_type": "code",
      "metadata": {
        "id": "IJ3Wjs11Szyg"
      },
      "source": [
        "from sklearn.model_selection import train_test_split\r\n",
        "import numpy as np\r\n",
        "seed = 1\r\n",
        "test_size = 0.33\r\n",
        "X_train, X_test, y_train, y_test =  train_test_split(X, y, test_size=test_size,random_state=seed)\r\n",
        "from sklearn import tree\r\n",
        "# Fit on model training data\r\n",
        "model = tree.DecisionTreeClassifier()\r\n",
        "model.fit(X_train, y_train)\r\n",
        "# Summarize the XGBoost model\r\n",
        "print(model)\r\n",
        "# Make Predictions with the XGBoost model for test_data\r\n",
        "predictions = model.predict(X_test)\r\n",
        "# Evaluate predictions\r\n",
        "accuracy = accuracy_score(y_test, predictions)\r\n",
        "print(\"Accuracy: %.2f%%\" % (accuracy * 100.0))"
      ],
      "execution_count": null,
      "outputs": []
    },
    {
      "cell_type": "code",
      "metadata": {
        "id": "9NJUfv3CYYa0"
      },
      "source": [
        "from sklearn.model_selection import train_test_split\r\n",
        "import numpy as np\r\n",
        "seed = 1\r\n",
        "test_size = 0.33\r\n",
        "X_train, X_test, y_train, y_test =  train_test_split(X, y, test_size=test_size,random_state=seed)\r\n",
        "from sklearn import svm\r\n",
        "# Fit on model training data\r\n",
        "model = svm.SVC()\r\n",
        "model.fit(X_train, y_train)\r\n",
        "# Summarize the XGBoost model\r\n",
        "print(model)\r\n",
        "# Make Predictions with the XGBoost model for test_data\r\n",
        "predictions = model.predict(X_test)\r\n",
        "# Evaluate predictions\r\n",
        "accuracy = accuracy_score(y_test, predictions)\r\n",
        "print(\"Accuracy: %.2f%%\" % (accuracy * 100.0))"
      ],
      "execution_count": null,
      "outputs": []
    },
    {
      "cell_type": "code",
      "metadata": {
        "id": "fR3SsTKQZfb3"
      },
      "source": [
        "from sklearn.model_selection import train_test_split\r\n",
        "import numpy as np\r\n",
        "seed = 1\r\n",
        "test_size = 0.33\r\n",
        "X_train, X_test, y_train, y_test =  train_test_split(X, y, test_size=test_size,random_state=seed)\r\n",
        "from sklearn.linear_model import SGDClassifier\r\n",
        "# Fit on model training data\r\n",
        "model = SGDClassifier()\r\n",
        "model.fit(X_train, y_train)\r\n",
        "# Summarize the XGBoost model\r\n",
        "print(model)\r\n",
        "# Make Predictions with the XGBoost model for test_data\r\n",
        "predictions = model.predict(X_test)\r\n",
        "# Evaluate predictions\r\n",
        "accuracy = accuracy_score(y_test, predictions)\r\n",
        "print(\"Accuracy: %.2f%%\" % (accuracy * 100.0))"
      ],
      "execution_count": null,
      "outputs": []
    },
    {
      "cell_type": "code",
      "metadata": {
        "id": "gcc7ujCCZ0OH"
      },
      "source": [
        "from sklearn.model_selection import train_test_split\r\n",
        "import numpy as np\r\n",
        "seed = 1\r\n",
        "test_size = 0.33\r\n",
        "X_train, X_test, y_train, y_test =  train_test_split(X, y, test_size=test_size,random_state=seed)\r\n",
        "from sklearn.naive_bayes import GaussianNB\r\n",
        "# Fit on model training data\r\n",
        "model = GaussianNB()\r\n",
        "model.fit(X_train, y_train)\r\n",
        "# Summarize the XGBoost model\r\n",
        "print(model)\r\n",
        "# Make Predictions with the XGBoost model for test_data\r\n",
        "predictions = model.predict(X_test)\r\n",
        "# Evaluate predictions\r\n",
        "accuracy = accuracy_score(y_test, predictions)\r\n",
        "print(\"Accuracy: %.2f%%\" % (accuracy * 100.0))"
      ],
      "execution_count": null,
      "outputs": []
    },
    {
      "cell_type": "code",
      "metadata": {
        "id": "_bdoX4PgalWr"
      },
      "source": [
        "from sklearn.model_selection import train_test_split\r\n",
        "import numpy as np\r\n",
        "seed = 1\r\n",
        "test_size = 0.33\r\n",
        "X_train, X_test, y_train, y_test =  train_test_split(X, y, test_size=test_size,random_state=seed)\r\n",
        "from sklearn.neural_network import MLPClassifier\r\n",
        "# Fit on model training data\r\n",
        "model = MLPClassifier()\r\n",
        "model.fit(X_train, y_train)\r\n",
        "# Summarize the XGBoost model\r\n",
        "print(model)\r\n",
        "# Make Predictions with the XGBoost model for test_data\r\n",
        "predictions = model.predict(X_test)\r\n",
        "# Evaluate predictions\r\n",
        "accuracy = accuracy_score(y_test, predictions)\r\n",
        "print(\"Accuracy: %.2f%%\" % (accuracy * 100.0))"
      ],
      "execution_count": null,
      "outputs": []
    }
  ]
}