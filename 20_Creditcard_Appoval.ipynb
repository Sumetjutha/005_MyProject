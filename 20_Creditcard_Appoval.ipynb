{
  "nbformat": 4,
  "nbformat_minor": 0,
  "metadata": {
    "colab": {
      "name": "20_Creditcard_Appoval.ipynb",
      "provenance": [],
      "collapsed_sections": [],
      "mount_file_id": "1BdT9n9cb8PdCbhj56-rCkes5M7y_0QzP",
      "authorship_tag": "ABX9TyNOPJoA5uDhlowBYyauJAXA",
      "include_colab_link": true
    },
    "kernelspec": {
      "name": "python3",
      "display_name": "Python 3"
    }
  },
  "cells": [
    {
      "cell_type": "markdown",
      "metadata": {
        "id": "view-in-github",
        "colab_type": "text"
      },
      "source": [
        "<a href=\"https://colab.research.google.com/github/Sumetjutha/MyProject/blob/main/20_Creditcard_Appoval.ipynb\" target=\"_parent\"><img src=\"https://colab.research.google.com/assets/colab-badge.svg\" alt=\"Open In Colab\"/></a>"
      ]
    },
    {
      "cell_type": "code",
      "metadata": {
        "colab": {
          "base_uri": "https://localhost:8080/"
        },
        "id": "9K7fe3ZOI1j7",
        "outputId": "b38a748f-5335-47e8-c90e-3fcf7a198ee0"
      },
      "source": [
        "# Complete Working Example of Your First XGBoost Model\r\n",
        "# Import dependencies \r\n",
        "from numpy import loadtxt\r\n",
        "from xgboost import XGBClassifier\r\n",
        "from sklearn.model_selection import train_test_split\r\n",
        "from sklearn.metrics import accuracy_score\r\n",
        "import pandas as pd\r\n",
        "# Load Data\r\n",
        "dataset = loadtxt('/content/drive/MyDrive/German_credit_approval.csv',delimiter=\",\")\r\n",
        "# Separate Dataset into X and y\r\n",
        "X = dataset[:,0:20]\r\n",
        "y = dataset[:,20]\r\n",
        "# Split data into train and test sets\r\n",
        "seed = 1\r\n",
        "test_size = 0.33\r\n",
        "X_train, X_test, y_train, y_test =  train_test_split(X, y, test_size=test_size,random_state=seed)\r\n",
        "# Fit on model training data\r\n",
        "model = XGBClassifier()\r\n",
        "model.fit(X_train, y_train)\r\n",
        "# Summarize the XGBoost model\r\n",
        "print(model)\r\n",
        "# Make Predictions with the XGBoost model for test_data\r\n",
        "predictions = model.predict(X_test)\r\n",
        "# Evaluate predictions\r\n",
        "accuracy = accuracy_score(y_test, predictions)\r\n",
        "print(\"Accuracy: %.2f%%\" % (accuracy * 100.0))"
      ],
      "execution_count": null,
      "outputs": [
        {
          "output_type": "stream",
          "text": [
            "XGBClassifier(base_score=0.5, booster='gbtree', colsample_bylevel=1,\n",
            "              colsample_bynode=1, colsample_bytree=1, gamma=0,\n",
            "              learning_rate=0.1, max_delta_step=0, max_depth=3,\n",
            "              min_child_weight=1, missing=None, n_estimators=100, n_jobs=1,\n",
            "              nthread=None, objective='binary:logistic', random_state=0,\n",
            "              reg_alpha=0, reg_lambda=1, scale_pos_weight=1, seed=None,\n",
            "              silent=None, subsample=1, verbosity=1)\n",
            "Accuracy: 78.79%\n"
          ],
          "name": "stdout"
        }
      ]
    },
    {
      "cell_type": "code",
      "metadata": {
        "colab": {
          "base_uri": "https://localhost:8080/"
        },
        "id": "ecKVK1Fdcvgo",
        "outputId": "e2d41507-7ccf-48a7-a48b-b299629877af"
      },
      "source": [
        "# Complete Working Example of Your First XGBoost Model\r\n",
        "# Import dependencies \r\n",
        "from numpy import loadtxt\r\n",
        "from xgboost import XGBClassifier\r\n",
        "from sklearn.model_selection import train_test_split\r\n",
        "from sklearn.metrics import accuracy_score\r\n",
        "import pandas as pd\r\n",
        "from lightgbm import LGBMClassifier\r\n",
        "# Load Data\r\n",
        "dataset = loadtxt('/content/drive/MyDrive/German_credit_approval.csv',delimiter=\",\")\r\n",
        "# Separate Dataset into X and y\r\n",
        "X = dataset[:,0:20]\r\n",
        "y = dataset[:,20]\r\n",
        "# Split data into train and test sets\r\n",
        "seed = 1\r\n",
        "test_size = 0.33\r\n",
        "X_train, X_test, y_train, y_test =  train_test_split(X, y, test_size=test_size,random_state=seed)\r\n",
        "# Fit on model training data\r\n",
        "model = LGBMClassifier()\r\n",
        "model.fit(X_train, y_train)\r\n",
        "# Summarize the XGBoost model\r\n",
        "print(model)\r\n",
        "# Make Predictions with the XGBoost model for test_data\r\n",
        "predictions = model.predict(X_test)\r\n",
        "# Evaluate predictions\r\n",
        "accuracy = accuracy_score(y_test, predictions)\r\n",
        "print(\"Accuracy: %.2f%%\" % (accuracy * 100.0))"
      ],
      "execution_count": null,
      "outputs": [
        {
          "output_type": "stream",
          "text": [
            "LGBMClassifier(boosting_type='gbdt', class_weight=None, colsample_bytree=1.0,\n",
            "               importance_type='split', learning_rate=0.1, max_depth=-1,\n",
            "               min_child_samples=20, min_child_weight=0.001, min_split_gain=0.0,\n",
            "               n_estimators=100, n_jobs=-1, num_leaves=31, objective=None,\n",
            "               random_state=None, reg_alpha=0.0, reg_lambda=0.0, silent=True,\n",
            "               subsample=1.0, subsample_for_bin=200000, subsample_freq=0)\n",
            "Accuracy: 75.15%\n"
          ],
          "name": "stdout"
        }
      ]
    }
  ]
}