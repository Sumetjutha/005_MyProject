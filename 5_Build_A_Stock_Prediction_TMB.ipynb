{
  "nbformat": 4,
  "nbformat_minor": 0,
  "metadata": {
    "colab": {
      "name": "5_Build_A_Stock_Prediction_TMB.ipynb",
      "provenance": [],
      "collapsed_sections": [],
      "mount_file_id": "1ZiwoHglCp2DUZt-WR7UlKKUxQGZdk-c-",
      "authorship_tag": "ABX9TyOeGCaLd3/C95YMRyXP3FdC",
      "include_colab_link": true
    },
    "kernelspec": {
      "name": "python3",
      "display_name": "Python 3"
    }
  },
  "cells": [
    {
      "cell_type": "markdown",
      "metadata": {
        "id": "view-in-github",
        "colab_type": "text"
      },
      "source": [
        "<a href=\"https://colab.research.google.com/github/Sumetjutha/MyProject/blob/main/5_Build_A_Stock_Prediction_TMB.ipynb\" target=\"_parent\"><img src=\"https://colab.research.google.com/assets/colab-badge.svg\" alt=\"Open In Colab\"/></a>"
      ]
    },
    {
      "cell_type": "code",
      "metadata": {
        "colab": {
          "base_uri": "https://localhost:8080/"
        },
        "id": "DttnAfkU4Yyd",
        "outputId": "c7715d71-4696-4070-af03-5e8199c24a57"
      },
      "source": [
        "!pip install quandl"
      ],
      "execution_count": null,
      "outputs": [
        {
          "output_type": "stream",
          "text": [
            "Collecting quandl\n",
            "  Downloading https://files.pythonhosted.org/packages/1f/37/2d908ea6de71a46f4bb2faf5ff0032cefe56117b715c7f22d1d0d2e7527d/Quandl-3.5.3-py2.py3-none-any.whl\n",
            "Requirement already satisfied: python-dateutil in /usr/local/lib/python3.6/dist-packages (from quandl) (2.8.1)\n",
            "Requirement already satisfied: pandas>=0.14 in /usr/local/lib/python3.6/dist-packages (from quandl) (1.1.5)\n",
            "Requirement already satisfied: more-itertools in /usr/local/lib/python3.6/dist-packages (from quandl) (8.6.0)\n",
            "Requirement already satisfied: six in /usr/local/lib/python3.6/dist-packages (from quandl) (1.15.0)\n",
            "Requirement already satisfied: requests>=2.7.0 in /usr/local/lib/python3.6/dist-packages (from quandl) (2.23.0)\n",
            "Collecting inflection>=0.3.1\n",
            "  Downloading https://files.pythonhosted.org/packages/59/91/aa6bde563e0085a02a435aa99b49ef75b0a4b062635e606dab23ce18d720/inflection-0.5.1-py2.py3-none-any.whl\n",
            "Requirement already satisfied: numpy>=1.8 in /usr/local/lib/python3.6/dist-packages (from quandl) (1.19.4)\n",
            "Requirement already satisfied: pytz>=2017.2 in /usr/local/lib/python3.6/dist-packages (from pandas>=0.14->quandl) (2018.9)\n",
            "Requirement already satisfied: urllib3!=1.25.0,!=1.25.1,<1.26,>=1.21.1 in /usr/local/lib/python3.6/dist-packages (from requests>=2.7.0->quandl) (1.24.3)\n",
            "Requirement already satisfied: chardet<4,>=3.0.2 in /usr/local/lib/python3.6/dist-packages (from requests>=2.7.0->quandl) (3.0.4)\n",
            "Requirement already satisfied: certifi>=2017.4.17 in /usr/local/lib/python3.6/dist-packages (from requests>=2.7.0->quandl) (2020.12.5)\n",
            "Requirement already satisfied: idna<3,>=2.5 in /usr/local/lib/python3.6/dist-packages (from requests>=2.7.0->quandl) (2.10)\n",
            "Installing collected packages: inflection, quandl\n",
            "Successfully installed inflection-0.5.1 quandl-3.5.3\n"
          ],
          "name": "stdout"
        }
      ]
    },
    {
      "cell_type": "code",
      "metadata": {
        "id": "rUZxrHKZ2YfP"
      },
      "source": [
        "# This program Predicts stock prices by nusing machine learning models\r\n",
        "# Install the dependencies\r\n",
        "import quandl\r\n",
        "import numpy as np\r\n",
        "from sklearn.linear_model import LinearRegression\r\n",
        "from sklearn.svm import SVR\r\n",
        "from sklearn.model_selection import train_test_split\r\n",
        "import pandas as pd\r\n",
        "from pandas_datareader import data\r\n",
        "import seaborn as sns\r\n",
        "import matplotlib.pyplot as plt"
      ],
      "execution_count": null,
      "outputs": []
    },
    {
      "cell_type": "code",
      "metadata": {
        "colab": {
          "base_uri": "https://localhost:8080/",
          "height": 235
        },
        "id": "w14S0oSp3veu",
        "outputId": "c6f45117-9b64-41f2-c727-92f19585af34"
      },
      "source": [
        "df = data.DataReader('TMB.bk',data_source=\"yahoo\")\r\n",
        "df.to_csv('/content/drive/MyDrive/MyProject/TMB_BK.csv')\r\n",
        "df.head()"
      ],
      "execution_count": null,
      "outputs": [
        {
          "output_type": "execute_result",
          "data": {
            "text/html": [
              "<div>\n",
              "<style scoped>\n",
              "    .dataframe tbody tr th:only-of-type {\n",
              "        vertical-align: middle;\n",
              "    }\n",
              "\n",
              "    .dataframe tbody tr th {\n",
              "        vertical-align: top;\n",
              "    }\n",
              "\n",
              "    .dataframe thead th {\n",
              "        text-align: right;\n",
              "    }\n",
              "</style>\n",
              "<table border=\"1\" class=\"dataframe\">\n",
              "  <thead>\n",
              "    <tr style=\"text-align: right;\">\n",
              "      <th></th>\n",
              "      <th>High</th>\n",
              "      <th>Low</th>\n",
              "      <th>Open</th>\n",
              "      <th>Close</th>\n",
              "      <th>Volume</th>\n",
              "      <th>Adj Close</th>\n",
              "    </tr>\n",
              "    <tr>\n",
              "      <th>Date</th>\n",
              "      <th></th>\n",
              "      <th></th>\n",
              "      <th></th>\n",
              "      <th></th>\n",
              "      <th></th>\n",
              "      <th></th>\n",
              "    </tr>\n",
              "  </thead>\n",
              "  <tbody>\n",
              "    <tr>\n",
              "      <th>2016-01-04</th>\n",
              "      <td>2.19477</td>\n",
              "      <td>2.13990</td>\n",
              "      <td>2.19477</td>\n",
              "      <td>2.13990</td>\n",
              "      <td>81077240.0</td>\n",
              "      <td>1.835067</td>\n",
              "    </tr>\n",
              "    <tr>\n",
              "      <th>2016-01-05</th>\n",
              "      <td>2.15819</td>\n",
              "      <td>2.10332</td>\n",
              "      <td>2.15819</td>\n",
              "      <td>2.12161</td>\n",
              "      <td>106283497.0</td>\n",
              "      <td>1.819382</td>\n",
              "    </tr>\n",
              "    <tr>\n",
              "      <th>2016-01-06</th>\n",
              "      <td>2.19477</td>\n",
              "      <td>2.12161</td>\n",
              "      <td>2.13990</td>\n",
              "      <td>2.17648</td>\n",
              "      <td>102702474.0</td>\n",
              "      <td>1.866436</td>\n",
              "    </tr>\n",
              "    <tr>\n",
              "      <th>2016-01-07</th>\n",
              "      <td>2.15819</td>\n",
              "      <td>2.12161</td>\n",
              "      <td>2.12161</td>\n",
              "      <td>2.12161</td>\n",
              "      <td>83287987.0</td>\n",
              "      <td>1.819382</td>\n",
              "    </tr>\n",
              "    <tr>\n",
              "      <th>2016-01-08</th>\n",
              "      <td>2.15819</td>\n",
              "      <td>2.12161</td>\n",
              "      <td>2.13990</td>\n",
              "      <td>2.15819</td>\n",
              "      <td>92758869.0</td>\n",
              "      <td>1.850752</td>\n",
              "    </tr>\n",
              "  </tbody>\n",
              "</table>\n",
              "</div>"
            ],
            "text/plain": [
              "               High      Low     Open    Close       Volume  Adj Close\n",
              "Date                                                                  \n",
              "2016-01-04  2.19477  2.13990  2.19477  2.13990   81077240.0   1.835067\n",
              "2016-01-05  2.15819  2.10332  2.15819  2.12161  106283497.0   1.819382\n",
              "2016-01-06  2.19477  2.12161  2.13990  2.17648  102702474.0   1.866436\n",
              "2016-01-07  2.15819  2.12161  2.12161  2.12161   83287987.0   1.819382\n",
              "2016-01-08  2.15819  2.12161  2.13990  2.15819   92758869.0   1.850752"
            ]
          },
          "metadata": {
            "tags": []
          },
          "execution_count": 36
        }
      ]
    },
    {
      "cell_type": "code",
      "metadata": {
        "colab": {
          "base_uri": "https://localhost:8080/",
          "height": 204
        },
        "id": "cdt4ZFpv2mc2",
        "outputId": "d1c5d7ac-3b20-4325-cc80-fcf5b2abbb73"
      },
      "source": [
        "df = pd.read_csv(\"/content/drive/MyDrive/MyProject/TMB_BK_adjust.csv\") \r\n",
        "df.head()"
      ],
      "execution_count": null,
      "outputs": [
        {
          "output_type": "execute_result",
          "data": {
            "text/html": [
              "<div>\n",
              "<style scoped>\n",
              "    .dataframe tbody tr th:only-of-type {\n",
              "        vertical-align: middle;\n",
              "    }\n",
              "\n",
              "    .dataframe tbody tr th {\n",
              "        vertical-align: top;\n",
              "    }\n",
              "\n",
              "    .dataframe thead th {\n",
              "        text-align: right;\n",
              "    }\n",
              "</style>\n",
              "<table border=\"1\" class=\"dataframe\">\n",
              "  <thead>\n",
              "    <tr style=\"text-align: right;\">\n",
              "      <th></th>\n",
              "      <th>Date</th>\n",
              "      <th>High</th>\n",
              "      <th>Low</th>\n",
              "      <th>Open</th>\n",
              "      <th>Close</th>\n",
              "      <th>Volume</th>\n",
              "      <th>Adj Close</th>\n",
              "    </tr>\n",
              "  </thead>\n",
              "  <tbody>\n",
              "    <tr>\n",
              "      <th>0</th>\n",
              "      <td>04-01-16</td>\n",
              "      <td>2.19477</td>\n",
              "      <td>2.13990</td>\n",
              "      <td>2.19477</td>\n",
              "      <td>2.13990</td>\n",
              "      <td>81077240</td>\n",
              "      <td>1.835067</td>\n",
              "    </tr>\n",
              "    <tr>\n",
              "      <th>1</th>\n",
              "      <td>05-01-16</td>\n",
              "      <td>2.15819</td>\n",
              "      <td>2.10332</td>\n",
              "      <td>2.15819</td>\n",
              "      <td>2.12161</td>\n",
              "      <td>106283497</td>\n",
              "      <td>1.819382</td>\n",
              "    </tr>\n",
              "    <tr>\n",
              "      <th>2</th>\n",
              "      <td>06-01-16</td>\n",
              "      <td>2.19477</td>\n",
              "      <td>2.12161</td>\n",
              "      <td>2.13990</td>\n",
              "      <td>2.17648</td>\n",
              "      <td>102702474</td>\n",
              "      <td>1.866436</td>\n",
              "    </tr>\n",
              "    <tr>\n",
              "      <th>3</th>\n",
              "      <td>07-01-16</td>\n",
              "      <td>2.15819</td>\n",
              "      <td>2.12161</td>\n",
              "      <td>2.12161</td>\n",
              "      <td>2.12161</td>\n",
              "      <td>83287987</td>\n",
              "      <td>1.819382</td>\n",
              "    </tr>\n",
              "    <tr>\n",
              "      <th>4</th>\n",
              "      <td>08-01-16</td>\n",
              "      <td>2.15819</td>\n",
              "      <td>2.12161</td>\n",
              "      <td>2.13990</td>\n",
              "      <td>2.15819</td>\n",
              "      <td>92758869</td>\n",
              "      <td>1.850752</td>\n",
              "    </tr>\n",
              "  </tbody>\n",
              "</table>\n",
              "</div>"
            ],
            "text/plain": [
              "       Date     High      Low     Open    Close     Volume  Adj Close\n",
              "0  04-01-16  2.19477  2.13990  2.19477  2.13990   81077240   1.835067\n",
              "1  05-01-16  2.15819  2.10332  2.15819  2.12161  106283497   1.819382\n",
              "2  06-01-16  2.19477  2.12161  2.13990  2.17648  102702474   1.866436\n",
              "3  07-01-16  2.15819  2.12161  2.12161  2.12161   83287987   1.819382\n",
              "4  08-01-16  2.15819  2.12161  2.13990  2.15819   92758869   1.850752"
            ]
          },
          "metadata": {
            "tags": []
          },
          "execution_count": 128
        }
      ]
    },
    {
      "cell_type": "code",
      "metadata": {
        "id": "oZLA8qlv4hsr"
      },
      "source": [
        "# Get the Adjusted Close Price\r\n",
        "df = df[['Adj Close']]"
      ],
      "execution_count": null,
      "outputs": []
    },
    {
      "cell_type": "code",
      "metadata": {
        "colab": {
          "base_uri": "https://localhost:8080/"
        },
        "id": "C_EnIbSS5GXF",
        "outputId": "f3d01b0e-f95b-4704-aabd-e35a110c8532"
      },
      "source": [
        "# Take a look at the new data\r\n",
        "print(df.head())"
      ],
      "execution_count": null,
      "outputs": [
        {
          "output_type": "stream",
          "text": [
            "   Adj Close\n",
            "0   1.835067\n",
            "1   1.819382\n",
            "2   1.866436\n",
            "3   1.819382\n",
            "4   1.850752\n"
          ],
          "name": "stdout"
        }
      ]
    },
    {
      "cell_type": "code",
      "metadata": {
        "colab": {
          "base_uri": "https://localhost:8080/"
        },
        "id": "wLdl2JX05ONC",
        "outputId": "3f9313e4-7fb8-4864-e749-8f4770310907"
      },
      "source": [
        "print(df.tail())"
      ],
      "execution_count": null,
      "outputs": [
        {
          "output_type": "stream",
          "text": [
            "      Adj Close\n",
            "1194       1.13\n",
            "1195       1.16\n",
            "1196       1.15\n",
            "1197       1.13\n",
            "1198       1.05\n"
          ],
          "name": "stdout"
        }
      ]
    },
    {
      "cell_type": "code",
      "metadata": {
        "id": "4_Yzg0fN5fgz"
      },
      "source": [
        "# A variable for prediction 'n' days out into the future\r\n",
        "forecast_out = 19"
      ],
      "execution_count": null,
      "outputs": []
    },
    {
      "cell_type": "code",
      "metadata": {
        "id": "EA5Jr6Yf58sA"
      },
      "source": [
        "# Create anothr column (the target or dependent variable) shifted 'n' units up\r\n",
        "df['Prediction'] = df[['Adj Close']].shift(-forecast_out)"
      ],
      "execution_count": null,
      "outputs": []
    },
    {
      "cell_type": "code",
      "metadata": {
        "colab": {
          "base_uri": "https://localhost:8080/"
        },
        "id": "W29skrhB6VPb",
        "outputId": "faf962cb-3edd-4494-bee5-dd75fc3da848"
      },
      "source": [
        "print(df.head())"
      ],
      "execution_count": null,
      "outputs": [
        {
          "output_type": "stream",
          "text": [
            "   Adj Close  Prediction\n",
            "0   1.835067    2.023282\n",
            "1   1.819382    2.007597\n",
            "2   1.866436    1.991912\n",
            "3   1.819382    1.991912\n",
            "4   1.850752    2.038966\n"
          ],
          "name": "stdout"
        }
      ]
    },
    {
      "cell_type": "code",
      "metadata": {
        "colab": {
          "base_uri": "https://localhost:8080/"
        },
        "id": "i1jfnzP16eiR",
        "outputId": "e6f0cbf3-e012-403e-9786-1a24f108f2bb"
      },
      "source": [
        "print(df.tail())"
      ],
      "execution_count": null,
      "outputs": [
        {
          "output_type": "stream",
          "text": [
            "      Adj Close  Prediction\n",
            "1194       1.13         NaN\n",
            "1195       1.16         NaN\n",
            "1196       1.15         NaN\n",
            "1197       1.13         NaN\n",
            "1198       1.05         NaN\n"
          ],
          "name": "stdout"
        }
      ]
    },
    {
      "cell_type": "code",
      "metadata": {
        "id": "iUscLHNE6jmL"
      },
      "source": [
        "### Create the Independent data set (X)\r\n",
        "# convert the data frame to a numpy array\r\n",
        "X = np.array(df.drop(['Prediction'],1))"
      ],
      "execution_count": null,
      "outputs": []
    },
    {
      "cell_type": "code",
      "metadata": {
        "id": "PbrzqjPq7ewp"
      },
      "source": [
        "# Remove the last 'n' rows \r\n",
        "X = X[:-forecast_out]"
      ],
      "execution_count": null,
      "outputs": []
    },
    {
      "cell_type": "code",
      "metadata": {
        "colab": {
          "base_uri": "https://localhost:8080/"
        },
        "id": "j5SSj90z7vkp",
        "outputId": "75feb009-21ab-45fc-f8f7-fca23bbd0c38"
      },
      "source": [
        "print(X)"
      ],
      "execution_count": null,
      "outputs": [
        {
          "output_type": "stream",
          "text": [
            "[[1.83506692]\n",
            " [1.81938207]\n",
            " [1.86643624]\n",
            " ...\n",
            " [0.81      ]\n",
            " [0.81999999]\n",
            " [0.83999997]]\n"
          ],
          "name": "stdout"
        }
      ]
    },
    {
      "cell_type": "code",
      "metadata": {
        "id": "v1NQ3nrt70jb"
      },
      "source": [
        "### Create the independent data set (y)\r\n",
        "# Convert the dataframe to a numpy array (All of the values including the NaN's)\r\n",
        "y = np.array(df['Prediction'])"
      ],
      "execution_count": null,
      "outputs": []
    },
    {
      "cell_type": "code",
      "metadata": {
        "id": "5fMoXmCK9R1n"
      },
      "source": [
        "# Get all of the y values except the last 'n' rows\r\n",
        "y = y[:-forecast_out]"
      ],
      "execution_count": null,
      "outputs": []
    },
    {
      "cell_type": "code",
      "metadata": {
        "colab": {
          "base_uri": "https://localhost:8080/"
        },
        "id": "lhDIkylJ9drx",
        "outputId": "a62776e8-17dc-4644-83ad-646a273697ff"
      },
      "source": [
        "print(y)"
      ],
      "execution_count": null,
      "outputs": [
        {
          "output_type": "stream",
          "text": [
            "[2.02328181 2.00759721 1.99191248 ... 1.14999998 1.12999999 1.04999995]\n"
          ],
          "name": "stdout"
        }
      ]
    },
    {
      "cell_type": "code",
      "metadata": {
        "id": "sbrMur1P9f_3"
      },
      "source": [
        "# Split the data into 80% training and 20% testting\r\n",
        "x_train,x_test,y_train,y_test = train_test_split(X, y ,test_size=0.5)"
      ],
      "execution_count": null,
      "outputs": []
    },
    {
      "cell_type": "code",
      "metadata": {
        "id": "_QiiwiOh-B5s"
      },
      "source": [
        "# Create and train the Support Vector Machine (Regressor)\r\n",
        "svr_rbf = SVR(kernel='rbf',C=1e3,gamma=0.1)"
      ],
      "execution_count": null,
      "outputs": []
    },
    {
      "cell_type": "code",
      "metadata": {
        "colab": {
          "base_uri": "https://localhost:8080/"
        },
        "id": "W1vNoSLf-b6G",
        "outputId": "022f2bce-0d93-485b-f7db-34d9fbf4b57a"
      },
      "source": [
        "svr_rbf.fit(x_train,y_train)"
      ],
      "execution_count": null,
      "outputs": [
        {
          "output_type": "execute_result",
          "data": {
            "text/plain": [
              "SVR(C=1000.0, cache_size=200, coef0=0.0, degree=3, epsilon=0.1, gamma=0.1,\n",
              "    kernel='rbf', max_iter=-1, shrinking=True, tol=0.001, verbose=False)"
            ]
          },
          "metadata": {
            "tags": []
          },
          "execution_count": 144
        }
      ]
    },
    {
      "cell_type": "code",
      "metadata": {
        "id": "FnsADitv-t2g"
      },
      "source": [
        "# Testing Model: Score returns the coefficient of determination R^2 of the prediction\r\n",
        "# The best possible score is 1.0\r\n",
        "svm_confidence = svr_rbf.score(x_test,y_test)"
      ],
      "execution_count": null,
      "outputs": []
    },
    {
      "cell_type": "code",
      "metadata": {
        "colab": {
          "base_uri": "https://localhost:8080/"
        },
        "id": "2rN-3NQ2_JUY",
        "outputId": "15d52b9c-eb21-4616-d67b-7cfac0e4b1e8"
      },
      "source": [
        "print(\"svm confidence: \", svm_confidence)"
      ],
      "execution_count": null,
      "outputs": [
        {
          "output_type": "stream",
          "text": [
            "svm confidence:  0.8962803306550702\n"
          ],
          "name": "stdout"
        }
      ]
    },
    {
      "cell_type": "code",
      "metadata": {
        "id": "DS-CQyii_Qvc"
      },
      "source": [
        "# Create and trainLinear Regression Model\r\n",
        "lr = LinearRegression()"
      ],
      "execution_count": null,
      "outputs": []
    },
    {
      "cell_type": "code",
      "metadata": {
        "colab": {
          "base_uri": "https://localhost:8080/"
        },
        "id": "OkkGFmW8_f29",
        "outputId": "24bb20aa-fd85-444b-86ef-a7e33986be1a"
      },
      "source": [
        "# Train the model\r\n",
        "lr.fit(x_train,y_train)"
      ],
      "execution_count": null,
      "outputs": [
        {
          "output_type": "execute_result",
          "data": {
            "text/plain": [
              "LinearRegression(copy_X=True, fit_intercept=True, n_jobs=None, normalize=False)"
            ]
          },
          "metadata": {
            "tags": []
          },
          "execution_count": 148
        }
      ]
    },
    {
      "cell_type": "code",
      "metadata": {
        "id": "1bIpRy2a_sAA"
      },
      "source": [
        "# Testing Model: Score returns the coefficient of determination R^2 of the prediction\r\n",
        "# The best possible score is 1.0\r\n",
        "lr_confidence = lr.score(x_test,y_test)"
      ],
      "execution_count": null,
      "outputs": []
    },
    {
      "cell_type": "code",
      "metadata": {
        "colab": {
          "base_uri": "https://localhost:8080/"
        },
        "id": "0yNAvFuW_26q",
        "outputId": "9370ae1c-92f3-445b-c1c6-2a115d6905fe"
      },
      "source": [
        "print(\"lr confidence: \", lr_confidence)"
      ],
      "execution_count": null,
      "outputs": [
        {
          "output_type": "stream",
          "text": [
            "lr confidence:  0.8899031824551087\n"
          ],
          "name": "stdout"
        }
      ]
    },
    {
      "cell_type": "code",
      "metadata": {
        "id": "ZLd7BrS0_-Pr"
      },
      "source": [
        "# Set x_forecast equal to the last 30 rows of the original ata set from Adj Close columns\r\n",
        "x_forecast = np.array(df.drop(['Prediction'],1))[-forecast_out:]"
      ],
      "execution_count": null,
      "outputs": []
    },
    {
      "cell_type": "code",
      "metadata": {
        "colab": {
          "base_uri": "https://localhost:8080/"
        },
        "id": "3DDQkdnHAUbd",
        "outputId": "780711b6-bdaa-4f1b-d523-219e24110f5b"
      },
      "source": [
        "print(x_forecast)"
      ],
      "execution_count": null,
      "outputs": [
        {
          "output_type": "stream",
          "text": [
            "[[0.85000002]\n",
            " [0.88999999]\n",
            " [0.92000002]\n",
            " [0.93000001]\n",
            " [1.02999997]\n",
            " [0.99000001]\n",
            " [0.98000002]\n",
            " [1.01999998]\n",
            " [1.01999998]\n",
            " [0.99000001]\n",
            " [0.98000002]\n",
            " [1.        ]\n",
            " [1.04999995]\n",
            " [1.15999997]\n",
            " [1.12999999]\n",
            " [1.15999997]\n",
            " [1.14999998]\n",
            " [1.12999999]\n",
            " [1.04999995]]\n"
          ],
          "name": "stdout"
        }
      ]
    },
    {
      "cell_type": "code",
      "metadata": {
        "id": "24SaFGviAi4k"
      },
      "source": [
        "# Print the predictions for the next 'n' days\r\n",
        "lr_prediction = lr.predict(x_forecast)"
      ],
      "execution_count": null,
      "outputs": []
    },
    {
      "cell_type": "code",
      "metadata": {
        "colab": {
          "base_uri": "https://localhost:8080/"
        },
        "id": "sddDW2WkAywE",
        "outputId": "0c238aef-239e-4756-cc7b-a61b4bbf9f60"
      },
      "source": [
        "print(lr_prediction)"
      ],
      "execution_count": null,
      "outputs": [
        {
          "output_type": "stream",
          "text": [
            "[0.86534572 0.9041531  0.93325869 0.94296054 1.03997905 1.00117167\n",
            " 0.99146983 1.03027721 1.03027721 1.00117167 0.99146983 1.01087352\n",
            " 1.05938274 1.16610316 1.13699762 1.16610316 1.15640132 1.13699762\n",
            " 1.05938274]\n"
          ],
          "name": "stdout"
        }
      ]
    },
    {
      "cell_type": "code",
      "metadata": {
        "id": "TXNiD3ybA9FZ"
      },
      "source": [
        "# Print the predictions for the next 'n' days\r\n",
        "svm_prediction = svr_rbf.predict(x_forecast)"
      ],
      "execution_count": null,
      "outputs": []
    },
    {
      "cell_type": "code",
      "metadata": {
        "colab": {
          "base_uri": "https://localhost:8080/"
        },
        "id": "wIuFmWm9BAQw",
        "outputId": "b652135e-8150-4c8e-bbe2-cce0deacdc01"
      },
      "source": [
        "print(svm_prediction)"
      ],
      "execution_count": null,
      "outputs": [
        {
          "output_type": "stream",
          "text": [
            "[0.91998604 0.94065172 0.95772966 0.96371167 1.03093878 1.00249226\n",
            " 0.99569573 1.02364242 1.02364242 1.00249226 0.99569573 1.009417\n",
            " 1.04588792 1.13588065 1.11011923 1.13588065 1.12719919 1.11011923\n",
            " 1.04588792]\n"
          ],
          "name": "stdout"
        }
      ]
    }
  ]
}