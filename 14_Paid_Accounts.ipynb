{
  "nbformat": 4,
  "nbformat_minor": 0,
  "metadata": {
    "colab": {
      "name": "14_Paid_Accounts.ipynb",
      "provenance": [],
      "collapsed_sections": [],
      "mount_file_id": "1dmr4EQdHZO4jLr2xBVFw2cj4bCfV7KVt",
      "authorship_tag": "ABX9TyMzvxNwrSrjfJnk4a6J5dEZ"
    },
    "kernelspec": {
      "name": "python3",
      "display_name": "Python 3"
    }
  },
  "cells": [
    {
      "cell_type": "code",
      "metadata": {
        "id": "ZTuuJuRKQphl"
      },
      "source": [
        "#################\r\n",
        "#               #\r\n",
        "# PAID_ACCOUNTS #\r\n",
        "#               #\r\n",
        "#################"
      ],
      "execution_count": 1,
      "outputs": []
    },
    {
      "cell_type": "code",
      "metadata": {
        "id": "WlpoCiN7Q6NZ"
      },
      "source": [
        "def predict_paid_or_unpaid(years_experience):\r\n",
        "    if years_experience < 3.0: return \"paid\"\r\n",
        "    elif years_experience < 8.5: return \"unpaid\"\r\n",
        "    else: return \"paid\""
      ],
      "execution_count": 2,
      "outputs": []
    },
    {
      "cell_type": "code",
      "metadata": {
        "colab": {
          "base_uri": "https://localhost:8080/"
        },
        "id": "th1q3L_wRNkb",
        "outputId": "0373bf8d-daf2-466d-f6f6-104947b1f4e0"
      },
      "source": [
        "print(predict_paid_or_unpaid(10))"
      ],
      "execution_count": 3,
      "outputs": [
        {
          "output_type": "stream",
          "text": [
            "paid\n"
          ],
          "name": "stdout"
        }
      ]
    }
  ]
}