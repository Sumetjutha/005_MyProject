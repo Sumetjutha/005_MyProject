{
  "nbformat": 4,
  "nbformat_minor": 0,
  "metadata": {
    "colab": {
      "name": "16_XGBoost_Jason_Brownlee.ipynb",
      "provenance": [],
      "collapsed_sections": [],
      "mount_file_id": "1jSF-QWH5vBUEDb9S0222KIC2bQdeJeyo",
      "authorship_tag": "ABX9TyMHh4b5us9fsP6MoZHwDcnl",
      "include_colab_link": true
    },
    "kernelspec": {
      "name": "python3",
      "display_name": "Python 3"
    }
  },
  "cells": [
    {
      "cell_type": "markdown",
      "metadata": {
        "id": "view-in-github",
        "colab_type": "text"
      },
      "source": [
        "<a href=\"https://colab.research.google.com/github/Sumetjutha/MyProject/blob/main/16_XGBoost_Jason_Brownlee.ipynb\" target=\"_parent\"><img src=\"https://colab.research.google.com/assets/colab-badge.svg\" alt=\"Open In Colab\"/></a>"
      ]
    },
    {
      "cell_type": "code",
      "metadata": {
        "colab": {
          "base_uri": "https://localhost:8080/"
        },
        "id": "W4UZOuflv-Ka",
        "outputId": "494fa161-0102-49cb-85e8-b9f9a915bf56"
      },
      "source": [
        "# Install XGBoost\r\n",
        "!pip install XGBoost"
      ],
      "execution_count": null,
      "outputs": [
        {
          "output_type": "stream",
          "text": [
            "Requirement already satisfied: XGBoost in /usr/local/lib/python3.6/dist-packages (0.90)\n",
            "Requirement already satisfied: scipy in /usr/local/lib/python3.6/dist-packages (from XGBoost) (1.4.1)\n",
            "Requirement already satisfied: numpy in /usr/local/lib/python3.6/dist-packages (from XGBoost) (1.19.5)\n"
          ],
          "name": "stdout"
        }
      ]
    },
    {
      "cell_type": "code",
      "metadata": {
        "id": "mUy3iL7u3SoX"
      },
      "source": [
        "# Import dependencies \r\n",
        "from numpy import loadtxt\r\n",
        "from xgboost import XGBClassifier\r\n",
        "from sklearn.model_selection import train_test_split\r\n",
        "from sklearn.metrics import accuracy_score"
      ],
      "execution_count": null,
      "outputs": []
    },
    {
      "cell_type": "code",
      "metadata": {
        "id": "ozxkjWGL7tQO"
      },
      "source": [
        "# Load Data\r\n",
        "dataset = loadtxt('/content/drive/MyDrive/MyProject/pima-indians-diabetes.csv',delimiter=\",\")"
      ],
      "execution_count": null,
      "outputs": []
    },
    {
      "cell_type": "code",
      "metadata": {
        "id": "MDW5p7sZ8b-3"
      },
      "source": [
        "# Separate Dataset into X and y\r\n",
        "X = dataset[:,0:8]\r\n",
        "y = dataset[:,8]"
      ],
      "execution_count": null,
      "outputs": []
    },
    {
      "cell_type": "code",
      "metadata": {
        "id": "YMqBqH9B9RwV"
      },
      "source": [
        "# Split data into train and test sets\r\n",
        "seed = 7\r\n",
        "test_size = 0.33\r\n",
        "X_train, X_test, y_train, y_test =  train_test_split(X, y, test_size=test_size,random_state=seed)"
      ],
      "execution_count": null,
      "outputs": []
    },
    {
      "cell_type": "code",
      "metadata": {
        "colab": {
          "base_uri": "https://localhost:8080/"
        },
        "id": "4r8z77kU--wW",
        "outputId": "c32aac4e-44ba-4a50-9c44-ea9b8da88413"
      },
      "source": [
        "# Fit on model training data\r\n",
        "model = XGBClassifier()\r\n",
        "model.fit(X_train, y_train)"
      ],
      "execution_count": null,
      "outputs": [
        {
          "output_type": "execute_result",
          "data": {
            "text/plain": [
              "XGBClassifier(base_score=0.5, booster='gbtree', colsample_bylevel=1,\n",
              "              colsample_bynode=1, colsample_bytree=1, gamma=0,\n",
              "              learning_rate=0.1, max_delta_step=0, max_depth=3,\n",
              "              min_child_weight=1, missing=None, n_estimators=100, n_jobs=1,\n",
              "              nthread=None, objective='binary:logistic', random_state=0,\n",
              "              reg_alpha=0, reg_lambda=1, scale_pos_weight=1, seed=None,\n",
              "              silent=None, subsample=1, verbosity=1)"
            ]
          },
          "metadata": {
            "tags": []
          },
          "execution_count": 11
        }
      ]
    },
    {
      "cell_type": "code",
      "metadata": {
        "colab": {
          "base_uri": "https://localhost:8080/"
        },
        "id": "WPgUOHWUBfo2",
        "outputId": "11f49753-40ba-4cd0-a343-3903886da7c8"
      },
      "source": [
        "# Summarize the XGBoost model\r\n",
        "print(model)"
      ],
      "execution_count": null,
      "outputs": [
        {
          "output_type": "stream",
          "text": [
            "XGBClassifier(base_score=0.5, booster='gbtree', colsample_bylevel=1,\n",
            "              colsample_bynode=1, colsample_bytree=1, gamma=0,\n",
            "              learning_rate=0.1, max_delta_step=0, max_depth=3,\n",
            "              min_child_weight=1, missing=None, n_estimators=100, n_jobs=1,\n",
            "              nthread=None, objective='binary:logistic', random_state=0,\n",
            "              reg_alpha=0, reg_lambda=1, scale_pos_weight=1, seed=None,\n",
            "              silent=None, subsample=1, verbosity=1)\n"
          ],
          "name": "stdout"
        }
      ]
    },
    {
      "cell_type": "code",
      "metadata": {
        "id": "jcoxaOy2BpJe"
      },
      "source": [
        "# Make Predictions with the XGBoost model for test_data\r\n",
        "predictions = model.predict(X_test)"
      ],
      "execution_count": null,
      "outputs": []
    },
    {
      "cell_type": "code",
      "metadata": {
        "colab": {
          "base_uri": "https://localhost:8080/"
        },
        "id": "3wYd542lCK2-",
        "outputId": "167a7809-78a1-43bb-b976-373dbe05114d"
      },
      "source": [
        "# Evaluate predictions\r\n",
        "accuracy = accuracy_score(y_test, predictions)\r\n",
        "print(\"Accuracy: %.2f%%\" % (accuracy * 100.0))"
      ],
      "execution_count": null,
      "outputs": [
        {
          "output_type": "stream",
          "text": [
            "Accuracy: 77.95%\n"
          ],
          "name": "stdout"
        }
      ]
    },
    {
      "cell_type": "code",
      "metadata": {
        "id": "uc276ugYDAli",
        "colab": {
          "base_uri": "https://localhost:8080/"
        },
        "outputId": "9d801138-85c4-43d7-809a-134fcb1c7324"
      },
      "source": [
        "# Complete Working Example of Your First XGBoost Model\r\n",
        "# Import dependencies \r\n",
        "from numpy import loadtxt\r\n",
        "from xgboost import XGBClassifier\r\n",
        "from sklearn.model_selection import train_test_split\r\n",
        "from sklearn.metrics import accuracy_score\r\n",
        "# Load Data\r\n",
        "dataset = loadtxt('/content/drive/MyDrive/MyProject/pima-indians-diabetes.csv',delimiter=\",\")\r\n",
        "# Separate Dataset into X and y\r\n",
        "X = dataset[:,0:8]\r\n",
        "y = dataset[:,8]\r\n",
        "# Split data into train and test sets\r\n",
        "seed = 7\r\n",
        "test_size = 0.33\r\n",
        "X_train, X_test, y_train, y_test =  train_test_split(X, y, test_size=test_size,random_state=seed)\r\n",
        "# Fit on model training data\r\n",
        "model = XGBClassifier()\r\n",
        "model.fit(X_train, y_train)\r\n",
        "# Summarize the XGBoost model\r\n",
        "print(model)\r\n",
        "# Make Predictions with the XGBoost model for test_data\r\n",
        "predictions = model.predict(X_test)\r\n",
        "# Evaluate predictions\r\n",
        "accuracy = accuracy_score(y_test, predictions)\r\n",
        "print(\"Accuracy: %.2f%%\" % (accuracy * 100.0))"
      ],
      "execution_count": 19,
      "outputs": [
        {
          "output_type": "stream",
          "text": [
            "XGBClassifier(base_score=0.5, booster='gbtree', colsample_bylevel=1,\n",
            "              colsample_bynode=1, colsample_bytree=1, gamma=0,\n",
            "              learning_rate=0.1, max_delta_step=0, max_depth=3,\n",
            "              min_child_weight=1, missing=None, n_estimators=100, n_jobs=1,\n",
            "              nthread=None, objective='binary:logistic', random_state=0,\n",
            "              reg_alpha=0, reg_lambda=1, scale_pos_weight=1, seed=None,\n",
            "              silent=None, subsample=1, verbosity=1)\n",
            "Accuracy: 77.95%\n"
          ],
          "name": "stdout"
        }
      ]
    }
  ]
}