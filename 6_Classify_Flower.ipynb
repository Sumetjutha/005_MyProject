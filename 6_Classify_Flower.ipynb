{
  "nbformat": 4,
  "nbformat_minor": 0,
  "metadata": {
    "colab": {
      "name": "6_Classify_Flower.ipynb",
      "provenance": [],
      "collapsed_sections": [],
      "mount_file_id": "19Vm2gKJ7cl83sPobY_NGLidfi8-0TKOa",
      "authorship_tag": "ABX9TyMy0VNOdy3bcdUMjcEl/jrx",
      "include_colab_link": true
    },
    "kernelspec": {
      "name": "python3",
      "display_name": "Python 3"
    }
  },
  "cells": [
    {
      "cell_type": "markdown",
      "metadata": {
        "id": "view-in-github",
        "colab_type": "text"
      },
      "source": [
        "<a href=\"https://colab.research.google.com/github/Sumetjutha/MyProject/blob/main/6_Classify_Flower.ipynb\" target=\"_parent\"><img src=\"https://colab.research.google.com/assets/colab-badge.svg\" alt=\"Open In Colab\"/></a>"
      ]
    },
    {
      "cell_type": "code",
      "metadata": {
        "colab": {
          "base_uri": "https://localhost:8080/"
        },
        "id": "iw_-OYkSEYJK",
        "outputId": "0cd8434c-198a-4ccc-ab2f-9ccd484620a4"
      },
      "source": [
        "!pip install matplotlib"
      ],
      "execution_count": 5,
      "outputs": [
        {
          "output_type": "stream",
          "text": [
            "Requirement already satisfied: matplotlib in /usr/local/lib/python3.6/dist-packages (3.2.2)\n",
            "Requirement already satisfied: pyparsing!=2.0.4,!=2.1.2,!=2.1.6,>=2.0.1 in /usr/local/lib/python3.6/dist-packages (from matplotlib) (2.4.7)\n",
            "Requirement already satisfied: cycler>=0.10 in /usr/local/lib/python3.6/dist-packages (from matplotlib) (0.10.0)\n",
            "Requirement already satisfied: kiwisolver>=1.0.1 in /usr/local/lib/python3.6/dist-packages (from matplotlib) (1.3.1)\n",
            "Requirement already satisfied: numpy>=1.11 in /usr/local/lib/python3.6/dist-packages (from matplotlib) (1.19.4)\n",
            "Requirement already satisfied: python-dateutil>=2.1 in /usr/local/lib/python3.6/dist-packages (from matplotlib) (2.8.1)\n",
            "Requirement already satisfied: six in /usr/local/lib/python3.6/dist-packages (from cycler>=0.10->matplotlib) (1.15.0)\n"
          ],
          "name": "stdout"
        }
      ]
    },
    {
      "cell_type": "code",
      "metadata": {
        "id": "NmRQ_jrF8eCX"
      },
      "source": [
        "# This is A Simple Logistic Regression Program To Classify Isis Species\r\n",
        "\r\n",
        "# Import the dependencies\r\n",
        "\r\n",
        "import matplotlib.pyplot as plt\r\n",
        "import seaborn as sns\r\n",
        "from sklearn.linear_model import LogisticRegression\r\n",
        "from sklearn.metrics import classification_report\r\n",
        "from sklearn.metrics import accuracy_score\r\n",
        "from sklearn.model_selection import train_test_split"
      ],
      "execution_count": 25,
      "outputs": []
    },
    {
      "cell_type": "code",
      "metadata": {
        "colab": {
          "base_uri": "https://localhost:8080/",
          "height": 204
        },
        "id": "OR3LpOsVEhoc",
        "outputId": "5a93766c-dadc-4b9c-96e9-09f0a2ca3bcb"
      },
      "source": [
        "# Load the data set\r\n",
        "data = sns.load_dataset(\"iris\")\r\n",
        "data.head()"
      ],
      "execution_count": 26,
      "outputs": [
        {
          "output_type": "execute_result",
          "data": {
            "text/html": [
              "<div>\n",
              "<style scoped>\n",
              "    .dataframe tbody tr th:only-of-type {\n",
              "        vertical-align: middle;\n",
              "    }\n",
              "\n",
              "    .dataframe tbody tr th {\n",
              "        vertical-align: top;\n",
              "    }\n",
              "\n",
              "    .dataframe thead th {\n",
              "        text-align: right;\n",
              "    }\n",
              "</style>\n",
              "<table border=\"1\" class=\"dataframe\">\n",
              "  <thead>\n",
              "    <tr style=\"text-align: right;\">\n",
              "      <th></th>\n",
              "      <th>sepal_length</th>\n",
              "      <th>sepal_width</th>\n",
              "      <th>petal_length</th>\n",
              "      <th>petal_width</th>\n",
              "      <th>species</th>\n",
              "    </tr>\n",
              "  </thead>\n",
              "  <tbody>\n",
              "    <tr>\n",
              "      <th>0</th>\n",
              "      <td>5.1</td>\n",
              "      <td>3.5</td>\n",
              "      <td>1.4</td>\n",
              "      <td>0.2</td>\n",
              "      <td>setosa</td>\n",
              "    </tr>\n",
              "    <tr>\n",
              "      <th>1</th>\n",
              "      <td>4.9</td>\n",
              "      <td>3.0</td>\n",
              "      <td>1.4</td>\n",
              "      <td>0.2</td>\n",
              "      <td>setosa</td>\n",
              "    </tr>\n",
              "    <tr>\n",
              "      <th>2</th>\n",
              "      <td>4.7</td>\n",
              "      <td>3.2</td>\n",
              "      <td>1.3</td>\n",
              "      <td>0.2</td>\n",
              "      <td>setosa</td>\n",
              "    </tr>\n",
              "    <tr>\n",
              "      <th>3</th>\n",
              "      <td>4.6</td>\n",
              "      <td>3.1</td>\n",
              "      <td>1.5</td>\n",
              "      <td>0.2</td>\n",
              "      <td>setosa</td>\n",
              "    </tr>\n",
              "    <tr>\n",
              "      <th>4</th>\n",
              "      <td>5.0</td>\n",
              "      <td>3.6</td>\n",
              "      <td>1.4</td>\n",
              "      <td>0.2</td>\n",
              "      <td>setosa</td>\n",
              "    </tr>\n",
              "  </tbody>\n",
              "</table>\n",
              "</div>"
            ],
            "text/plain": [
              "   sepal_length  sepal_width  petal_length  petal_width species\n",
              "0           5.1          3.5           1.4          0.2  setosa\n",
              "1           4.9          3.0           1.4          0.2  setosa\n",
              "2           4.7          3.2           1.3          0.2  setosa\n",
              "3           4.6          3.1           1.5          0.2  setosa\n",
              "4           5.0          3.6           1.4          0.2  setosa"
            ]
          },
          "metadata": {
            "tags": []
          },
          "execution_count": 26
        }
      ]
    },
    {
      "cell_type": "code",
      "metadata": {
        "id": "neyYw6fkE_tB"
      },
      "source": [
        "# Prepare the training set\r\n",
        "\r\n",
        "# X = feature values, all the columns except the last columns\r\n",
        "X = data.iloc[:, :-1]"
      ],
      "execution_count": 27,
      "outputs": []
    },
    {
      "cell_type": "code",
      "metadata": {
        "id": "0d9WbBNKFROJ"
      },
      "source": [
        "# y = target values, last column of the data frame\r\n",
        "y = data.iloc[:, -1]"
      ],
      "execution_count": 28,
      "outputs": []
    },
    {
      "cell_type": "code",
      "metadata": {
        "colab": {
          "base_uri": "https://localhost:8080/"
        },
        "id": "azv1d8ZcFhLH",
        "outputId": "0e537607-b906-4694-dcc3-5c9b0e406d41"
      },
      "source": [
        "print(y)"
      ],
      "execution_count": 29,
      "outputs": [
        {
          "output_type": "stream",
          "text": [
            "0         setosa\n",
            "1         setosa\n",
            "2         setosa\n",
            "3         setosa\n",
            "4         setosa\n",
            "         ...    \n",
            "145    virginica\n",
            "146    virginica\n",
            "147    virginica\n",
            "148    virginica\n",
            "149    virginica\n",
            "Name: species, Length: 150, dtype: object\n"
          ],
          "name": "stdout"
        }
      ]
    },
    {
      "cell_type": "code",
      "metadata": {
        "colab": {
          "base_uri": "https://localhost:8080/",
          "height": 279
        },
        "id": "7v0gdUrWFk2y",
        "outputId": "f038c0bc-aa78-4fd6-b440-92200b9119ea"
      },
      "source": [
        "# Plot the relation of each feature with each  species\r\n",
        "plt.xlabel('Features')\r\n",
        "plt.ylabel('Species')\r\n",
        "\r\n",
        "pltX = data.loc[:, 'sepal_length']\r\n",
        "pltY = data.loc[:, 'species']\r\n",
        "plt.scatter(pltX, pltY, color='blue',Label='sapal_length')\r\n",
        "\r\n",
        "pltX = data.loc[:, 'sepal_width']\r\n",
        "pltY = data.loc[:, 'species']\r\n",
        "plt.scatter(pltX, pltY, color='green',Label='sapal_width')\r\n",
        "\r\n",
        "pltX = data.loc[:, 'petal_length']\r\n",
        "pltY = data.loc[:, 'species']\r\n",
        "plt.scatter(pltX, pltY, color='red',Label='petal_length')\r\n",
        "\r\n",
        "pltX = data.loc[:, 'petal_width']\r\n",
        "pltY = data.loc[:, 'species']\r\n",
        "plt.scatter(pltX, pltY, color='black',Label='petal_width')\r\n",
        "\r\n",
        "plt.legend(loc=4, prop={'size':8})\r\n",
        "plt.show()"
      ],
      "execution_count": 30,
      "outputs": [
        {
          "output_type": "display_data",
          "data": {
            "image/png": "[encoded data removed]",
            "text/plain": [
              "<Figure size 432x288 with 1 Axes>"
            ]
          },
          "metadata": {
            "tags": [],
            "needs_background": "light"
          }
        }
      ]
    },
    {
      "cell_type": "code",
      "metadata": {
        "id": "3hRSMkA9S1uE"
      },
      "source": [
        "# Split the data into 50% training and 50% testing\r\n",
        "x_train, x_test, y_train, y_test = train_test_split(X, y, test_size=0.5, random_state=42)"
      ],
      "execution_count": 56,
      "outputs": []
    },
    {
      "cell_type": "code",
      "metadata": {
        "id": "cNm5WjWWV9yX"
      },
      "source": [
        "from sklearn import preprocessing"
      ],
      "execution_count": 57,
      "outputs": []
    },
    {
      "cell_type": "code",
      "metadata": {
        "id": "GyGtWz5fT2M2"
      },
      "source": [
        "# Train the model\r\n",
        "model = LogisticRegression(max_iter=1000)\r\n",
        "\r\n"
      ],
      "execution_count": 58,
      "outputs": []
    },
    {
      "cell_type": "code",
      "metadata": {
        "colab": {
          "base_uri": "https://localhost:8080/"
        },
        "id": "1vHgljjDWYvm",
        "outputId": "8de50fab-f392-4622-90d0-b4f76e7d9519"
      },
      "source": [
        "model.fit(x_train, y_train)"
      ],
      "execution_count": 59,
      "outputs": [
        {
          "output_type": "execute_result",
          "data": {
            "text/plain": [
              "LogisticRegression(C=1.0, class_weight=None, dual=False, fit_intercept=True,\n",
              "                   intercept_scaling=1, l1_ratio=None, max_iter=1000,\n",
              "                   multi_class='auto', n_jobs=None, penalty='l2',\n",
              "                   random_state=None, solver='lbfgs', tol=0.0001, verbose=0,\n",
              "                   warm_start=False)"
            ]
          },
          "metadata": {
            "tags": []
          },
          "execution_count": 59
        }
      ]
    },
    {
      "cell_type": "code",
      "metadata": {
        "colab": {
          "base_uri": "https://localhost:8080/"
        },
        "id": "9Uoi9GHBWzAS",
        "outputId": "411874d0-72ec-4f5c-b3f0-6eee726930e5"
      },
      "source": [
        "# Test the model\r\n",
        "predictions = model.predict(x_test)\r\n",
        "print(predictions)"
      ],
      "execution_count": 60,
      "outputs": [
        {
          "output_type": "stream",
          "text": [
            "['versicolor' 'setosa' 'virginica' 'versicolor' 'versicolor' 'setosa'\n",
            " 'versicolor' 'virginica' 'versicolor' 'versicolor' 'virginica' 'setosa'\n",
            " 'setosa' 'setosa' 'setosa' 'versicolor' 'virginica' 'versicolor'\n",
            " 'versicolor' 'virginica' 'setosa' 'virginica' 'setosa' 'virginica'\n",
            " 'virginica' 'virginica' 'virginica' 'virginica' 'setosa' 'setosa'\n",
            " 'setosa' 'setosa' 'versicolor' 'setosa' 'setosa' 'virginica' 'versicolor'\n",
            " 'setosa' 'setosa' 'setosa' 'virginica' 'versicolor' 'versicolor' 'setosa'\n",
            " 'setosa' 'versicolor' 'virginica' 'virginica' 'versicolor' 'virginica'\n",
            " 'versicolor' 'virginica' 'versicolor' 'setosa' 'virginica' 'versicolor'\n",
            " 'setosa' 'setosa' 'setosa' 'versicolor' 'virginica' 'setosa' 'setosa'\n",
            " 'setosa' 'versicolor' 'setosa' 'versicolor' 'virginica' 'setosa'\n",
            " 'versicolor' 'virginica' 'setosa' 'virginica' 'virginica' 'versicolor']\n"
          ],
          "name": "stdout"
        }
      ]
    },
    {
      "cell_type": "code",
      "metadata": {
        "colab": {
          "base_uri": "https://localhost:8080/"
        },
        "id": "o__i80ajXI6S",
        "outputId": "4adb6933-5e03-466b-c535-72adbaf9a49b"
      },
      "source": [
        "print(y_test)"
      ],
      "execution_count": 61,
      "outputs": [
        {
          "output_type": "stream",
          "text": [
            "73     versicolor\n",
            "18         setosa\n",
            "118     virginica\n",
            "78     versicolor\n",
            "76     versicolor\n",
            "          ...    \n",
            "113     virginica\n",
            "33         setosa\n",
            "138     virginica\n",
            "101     virginica\n",
            "62     versicolor\n",
            "Name: species, Length: 75, dtype: object\n"
          ],
          "name": "stdout"
        }
      ]
    },
    {
      "cell_type": "code",
      "metadata": {
        "colab": {
          "base_uri": "https://localhost:8080/"
        },
        "id": "iG7m3rPQXNva",
        "outputId": "8e377b54-ed72-4d1a-a65d-d709dff7c801"
      },
      "source": [
        "# Check precision, recall, f1-score\r\n",
        "print(classification_report(y_test, predictions))"
      ],
      "execution_count": 62,
      "outputs": [
        {
          "output_type": "stream",
          "text": [
            "              precision    recall  f1-score   support\n",
            "\n",
            "      setosa       1.00      1.00      1.00        29\n",
            "  versicolor       1.00      1.00      1.00        23\n",
            "   virginica       1.00      1.00      1.00        23\n",
            "\n",
            "    accuracy                           1.00        75\n",
            "   macro avg       1.00      1.00      1.00        75\n",
            "weighted avg       1.00      1.00      1.00        75\n",
            "\n"
          ],
          "name": "stdout"
        }
      ]
    },
    {
      "cell_type": "code",
      "metadata": {
        "colab": {
          "base_uri": "https://localhost:8080/"
        },
        "id": "mWYxiohnZ9Qj",
        "outputId": "1e441cbc-120c-420b-d3c8-04b94fcbe4a2"
      },
      "source": [
        "print(accuracy_score(y_test, predictions))"
      ],
      "execution_count": 63,
      "outputs": [
        {
          "output_type": "stream",
          "text": [
            "1.0\n"
          ],
          "name": "stdout"
        }
      ]
    }
  ]
}