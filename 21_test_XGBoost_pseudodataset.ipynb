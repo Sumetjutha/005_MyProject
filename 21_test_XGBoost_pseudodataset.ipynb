{
  "nbformat": 4,
  "nbformat_minor": 0,
  "metadata": {
    "colab": {
      "name": "21_test_XGBoost_pseudodataset.ipynb",
      "provenance": [],
      "collapsed_sections": [],
      "authorship_tag": "ABX9TyN0+2wjmbDKgHXTC75VZJ4P",
      "include_colab_link": true
    },
    "kernelspec": {
      "name": "python3",
      "display_name": "Python 3"
    }
  },
  "cells": [
    {
      "cell_type": "markdown",
      "metadata": {
        "id": "view-in-github",
        "colab_type": "text"
      },
      "source": [
        "<a href=\"https://colab.research.google.com/github/Sumetjutha/MyProject/blob/main/21_test_XGBoost_pseudodataset.ipynb\" target=\"_parent\"><img src=\"https://colab.research.google.com/assets/colab-badge.svg\" alt=\"Open In Colab\"/></a>"
      ]
    },
    {
      "cell_type": "code",
      "metadata": {
        "colab": {
          "base_uri": "https://localhost:8080/"
        },
        "id": "cJ3DfUd-06zG",
        "outputId": "cefd12e1-5487-46a2-de52-6146d424b6db"
      },
      "source": [
        "!pip install XGBoost"
      ],
      "execution_count": null,
      "outputs": [
        {
          "output_type": "stream",
          "text": [
            "Requirement already satisfied: XGBoost in /usr/local/lib/python3.6/dist-packages (0.90)\n",
            "Requirement already satisfied: scipy in /usr/local/lib/python3.6/dist-packages (from XGBoost) (1.4.1)\n",
            "Requirement already satisfied: numpy in /usr/local/lib/python3.6/dist-packages (from XGBoost) (1.19.5)\n"
          ],
          "name": "stdout"
        }
      ]
    },
    {
      "cell_type": "code",
      "metadata": {
        "colab": {
          "base_uri": "https://localhost:8080/"
        },
        "id": "j1mTuK840B9c",
        "outputId": "6263e68f-f2db-4074-bd43-c32aac6764be"
      },
      "source": [
        "# Complete Working Example of Your First XGBoost Model\r\n",
        "# Import dependencies \r\n",
        "from numpy import loadtxt\r\n",
        "from xgboost import XGBClassifier\r\n",
        "from sklearn.model_selection import train_test_split\r\n",
        "from sklearn.metrics import accuracy_score\r\n",
        "import pandas as pd\r\n",
        "# Load Data\r\n",
        "dataset = loadtxt('/content/drive/MyDrive/psudo_dataset.csv',delimiter=\",\")\r\n",
        "# Separate Dataset into X and y\r\n",
        "X = dataset[:,0:5]\r\n",
        "y = dataset[:,5]\r\n",
        "# Split data into train and test sets\r\n",
        "seed = 7\r\n",
        "test_size = 0.33\r\n",
        "X_train, X_test, y_train, y_test =  train_test_split(X, y, test_size=test_size,random_state=seed)\r\n",
        "# Fit on model training data\r\n",
        "model = XGBClassifier()\r\n",
        "model.fit(X_train, y_train)\r\n",
        "# Summarize the XGBoost model\r\n",
        "print(model)\r\n",
        "# Make Predictions with the XGBoost model for test_data\r\n",
        "predictions = model.predict(X_test)\r\n",
        "# Evaluate predictions\r\n",
        "accuracy = accuracy_score(y_test, predictions)\r\n",
        "print(\"Accuracy: %.2f%%\" % (accuracy * 100.0))"
      ],
      "execution_count": null,
      "outputs": [
        {
          "output_type": "stream",
          "text": [
            "XGBClassifier(base_score=0.5, booster='gbtree', colsample_bylevel=1,\n",
            "              colsample_bynode=1, colsample_bytree=1, gamma=0,\n",
            "              learning_rate=0.1, max_delta_step=0, max_depth=3,\n",
            "              min_child_weight=1, missing=None, n_estimators=100, n_jobs=1,\n",
            "              nthread=None, objective='multi:softprob', random_state=0,\n",
            "              reg_alpha=0, reg_lambda=1, scale_pos_weight=1, seed=None,\n",
            "              silent=None, subsample=1, verbosity=1)\n",
            "Accuracy: 98.00%\n"
          ],
          "name": "stdout"
        }
      ]
    },
    {
      "cell_type": "code",
      "metadata": {
        "colab": {
          "base_uri": "https://localhost:8080/"
        },
        "id": "SgJVp-OKdfYI",
        "outputId": "78b28080-d44a-40b2-efc1-dd8cede1e6a8"
      },
      "source": [
        "# Complete Working Example of Your First XGBoost Model\r\n",
        "# Import dependencies \r\n",
        "from numpy import loadtxt\r\n",
        "from xgboost import XGBClassifier\r\n",
        "from sklearn.model_selection import train_test_split\r\n",
        "from sklearn.metrics import accuracy_score\r\n",
        "import pandas as pd\r\n",
        "from lightgbm import LGBMClassifier\r\n",
        "# Load Data\r\n",
        "dataset = loadtxt('/content/drive/MyDrive/psudo_dataset.csv',delimiter=\",\")\r\n",
        "# Separate Dataset into X and y\r\n",
        "X = dataset[:,0:5]\r\n",
        "y = dataset[:,5]\r\n",
        "# Split data into train and test sets\r\n",
        "seed = 7\r\n",
        "test_size = 0.33\r\n",
        "X_train, X_test, y_train, y_test =  train_test_split(X, y, test_size=test_size,random_state=seed)\r\n",
        "# Fit on model training data\r\n",
        "model = LGBMClassifier()\r\n",
        "model.fit(X_train, y_train)\r\n",
        "# Summarize the XGBoost model\r\n",
        "print(model)\r\n",
        "# Make Predictions with the XGBoost model for test_data\r\n",
        "predictions = model.predict(X_test)\r\n",
        "# Evaluate predictions\r\n",
        "accuracy = accuracy_score(y_test, predictions)\r\n",
        "print(\"Accuracy: %.2f%%\" % (accuracy * 100.0))"
      ],
      "execution_count": null,
      "outputs": [
        {
          "output_type": "stream",
          "text": [
            "LGBMClassifier(boosting_type='gbdt', class_weight=None, colsample_bytree=1.0,\n",
            "               importance_type='split', learning_rate=0.1, max_depth=-1,\n",
            "               min_child_samples=20, min_child_weight=0.001, min_split_gain=0.0,\n",
            "               n_estimators=100, n_jobs=-1, num_leaves=31, objective=None,\n",
            "               random_state=None, reg_alpha=0.0, reg_lambda=0.0, silent=True,\n",
            "               subsample=1.0, subsample_for_bin=200000, subsample_freq=0)\n",
            "Accuracy: 94.00%\n"
          ],
          "name": "stdout"
        }
      ]
    },
    {
      "cell_type": "code",
      "metadata": {
        "colab": {
          "base_uri": "https://localhost:8080/"
        },
        "id": "YiN_LRR9eGBa",
        "outputId": "94dd81aa-73e5-45a9-a7e5-025c77453d00"
      },
      "source": [
        "# Complete Working Example of Your First XGBoost Model\r\n",
        "# Import dependencies \r\n",
        "from numpy import loadtxt\r\n",
        "from xgboost import XGBClassifier\r\n",
        "from sklearn.model_selection import train_test_split\r\n",
        "from sklearn.metrics import accuracy_score\r\n",
        "import pandas as pd\r\n",
        "from sklearn.neural_network import MLPClassifier\r\n",
        "# Load Data\r\n",
        "dataset = loadtxt('/content/drive/MyDrive/psudo_dataset.csv',delimiter=\",\")\r\n",
        "# Separate Dataset into X and y\r\n",
        "X = dataset[:,0:5]\r\n",
        "y = dataset[:,5]\r\n",
        "# Split data into train and test sets\r\n",
        "seed = 7\r\n",
        "test_size = 0.33\r\n",
        "X_train, X_test, y_train, y_test =  train_test_split(X, y, test_size=test_size,random_state=seed)\r\n",
        "# Fit on model training data\r\n",
        "model = MLPClassifier(solver='lbfgs', alpha=1e-5, hidden_layer_sizes=(5, 2))\r\n",
        "model.fit(X_train, y_train)\r\n",
        "# Summarize the XGBoost model\r\n",
        "print(model)\r\n",
        "# Make Predictions with the XGBoost model for test_data\r\n",
        "predictions = model.predict(X_test)\r\n",
        "# Evaluate predictions\r\n",
        "accuracy = accuracy_score(y_test, predictions)\r\n",
        "print(\"Accuracy: %.2f%%\" % (accuracy * 100.0))"
      ],
      "execution_count": null,
      "outputs": [
        {
          "output_type": "stream",
          "text": [
            "MLPClassifier(activation='relu', alpha=1e-05, batch_size='auto', beta_1=0.9,\n",
            "              beta_2=0.999, early_stopping=False, epsilon=1e-08,\n",
            "              hidden_layer_sizes=(5, 2), learning_rate='constant',\n",
            "              learning_rate_init=0.001, max_fun=15000, max_iter=200,\n",
            "              momentum=0.9, n_iter_no_change=10, nesterovs_momentum=True,\n",
            "              power_t=0.5, random_state=None, shuffle=True, solver='lbfgs',\n",
            "              tol=0.0001, validation_fraction=0.1, verbose=False,\n",
            "              warm_start=False)\n",
            "Accuracy: 94.00%\n"
          ],
          "name": "stdout"
        }
      ]
    }
  ]
}