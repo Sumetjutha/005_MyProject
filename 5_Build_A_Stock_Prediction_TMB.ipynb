{
  "nbformat": 4,
  "nbformat_minor": 0,
  "metadata": {
    "colab": {
      "name": "5_Build_A_Stock_Prediction_TMB.ipynb",
      "provenance": [],
      "collapsed_sections": [],
      "mount_file_id": "1ZiwoHglCp2DUZt-WR7UlKKUxQGZdk-c-",
      "authorship_tag": "ABX9TyN6vLuPfWpt674dqv5gvo+i",
      "include_colab_link": true
    },
    "kernelspec": {
      "name": "python3",
      "display_name": "Python 3"
    }
  },
  "cells": [
    {
      "cell_type": "markdown",
      "metadata": {
        "id": "view-in-github",
        "colab_type": "text"
      },
      "source": [
        "<a href=\"https://colab.research.google.com/github/Sumetjutha/MyProject/blob/main/5_Build_A_Stock_Prediction_TMB.ipynb\" target=\"_parent\"><img src=\"https://colab.research.google.com/assets/colab-badge.svg\" alt=\"Open In Colab\"/></a>"
      ]
    },
    {
      "cell_type": "code",
      "metadata": {
        "colab": {
          "base_uri": "https://localhost:8080/"
        },
        "id": "DttnAfkU4Yyd",
        "outputId": "4e7b10a4-6534-4418-e129-adae02fcd900"
      },
      "source": [
        "!pip install quandl"
      ],
      "execution_count": null,
      "outputs": [
        {
          "output_type": "stream",
          "text": [
            "Collecting quandl\n",
            "  Downloading https://files.pythonhosted.org/packages/1f/37/2d908ea6de71a46f4bb2faf5ff0032cefe56117b715c7f22d1d0d2e7527d/Quandl-3.5.3-py2.py3-none-any.whl\n",
            "Requirement already satisfied: requests>=2.7.0 in /usr/local/lib/python3.6/dist-packages (from quandl) (2.23.0)\n",
            "Requirement already satisfied: more-itertools in /usr/local/lib/python3.6/dist-packages (from quandl) (8.6.0)\n",
            "Requirement already satisfied: python-dateutil in /usr/local/lib/python3.6/dist-packages (from quandl) (2.8.1)\n",
            "Requirement already satisfied: numpy>=1.8 in /usr/local/lib/python3.6/dist-packages (from quandl) (1.19.4)\n",
            "Requirement already satisfied: six in /usr/local/lib/python3.6/dist-packages (from quandl) (1.15.0)\n",
            "Collecting inflection>=0.3.1\n",
            "  Downloading https://files.pythonhosted.org/packages/59/91/aa6bde563e0085a02a435aa99b49ef75b0a4b062635e606dab23ce18d720/inflection-0.5.1-py2.py3-none-any.whl\n",
            "Requirement already satisfied: pandas>=0.14 in /usr/local/lib/python3.6/dist-packages (from quandl) (1.1.5)\n",
            "Requirement already satisfied: urllib3!=1.25.0,!=1.25.1,<1.26,>=1.21.1 in /usr/local/lib/python3.6/dist-packages (from requests>=2.7.0->quandl) (1.24.3)\n",
            "Requirement already satisfied: certifi>=2017.4.17 in /usr/local/lib/python3.6/dist-packages (from requests>=2.7.0->quandl) (2020.12.5)\n",
            "Requirement already satisfied: chardet<4,>=3.0.2 in /usr/local/lib/python3.6/dist-packages (from requests>=2.7.0->quandl) (3.0.4)\n",
            "Requirement already satisfied: idna<3,>=2.5 in /usr/local/lib/python3.6/dist-packages (from requests>=2.7.0->quandl) (2.10)\n",
            "Requirement already satisfied: pytz>=2017.2 in /usr/local/lib/python3.6/dist-packages (from pandas>=0.14->quandl) (2018.9)\n",
            "Installing collected packages: inflection, quandl\n",
            "Successfully installed inflection-0.5.1 quandl-3.5.3\n"
          ],
          "name": "stdout"
        }
      ]
    },
    {
      "cell_type": "code",
      "metadata": {
        "id": "rUZxrHKZ2YfP"
      },
      "source": [
        "# This program Predicts stock prices by nusing machine learning models\r\n",
        "# Install the dependencies\r\n",
        "import quandl\r\n",
        "import numpy as np\r\n",
        "from sklearn.linear_model import LinearRegression\r\n",
        "from sklearn.svm import SVR\r\n",
        "from sklearn.model_selection import train_test_split\r\n",
        "import pandas as pd\r\n",
        "from pandas_datareader import data\r\n",
        "import seaborn as sns\r\n",
        "import matplotlib.pyplot as plt"
      ],
      "execution_count": null,
      "outputs": []
    },
    {
      "cell_type": "code",
      "metadata": {
        "colab": {
          "base_uri": "https://localhost:8080/",
          "height": 235
        },
        "id": "w14S0oSp3veu",
        "outputId": "f2b500c3-b324-4c43-acf5-74bc79f0e56a"
      },
      "source": [
        "df = data.DataReader('TMB.bk',data_source=\"yahoo\")\r\n",
        "df.head()"
      ],
      "execution_count": null,
      "outputs": [
        {
          "output_type": "execute_result",
          "data": {
            "text/html": [
              "<div>\n",
              "<style scoped>\n",
              "    .dataframe tbody tr th:only-of-type {\n",
              "        vertical-align: middle;\n",
              "    }\n",
              "\n",
              "    .dataframe tbody tr th {\n",
              "        vertical-align: top;\n",
              "    }\n",
              "\n",
              "    .dataframe thead th {\n",
              "        text-align: right;\n",
              "    }\n",
              "</style>\n",
              "<table border=\"1\" class=\"dataframe\">\n",
              "  <thead>\n",
              "    <tr style=\"text-align: right;\">\n",
              "      <th></th>\n",
              "      <th>High</th>\n",
              "      <th>Low</th>\n",
              "      <th>Open</th>\n",
              "      <th>Close</th>\n",
              "      <th>Volume</th>\n",
              "      <th>Adj Close</th>\n",
              "    </tr>\n",
              "    <tr>\n",
              "      <th>Date</th>\n",
              "      <th></th>\n",
              "      <th></th>\n",
              "      <th></th>\n",
              "      <th></th>\n",
              "      <th></th>\n",
              "      <th></th>\n",
              "    </tr>\n",
              "  </thead>\n",
              "  <tbody>\n",
              "    <tr>\n",
              "      <th>2016-01-04</th>\n",
              "      <td>2.19477</td>\n",
              "      <td>2.13990</td>\n",
              "      <td>2.19477</td>\n",
              "      <td>2.13990</td>\n",
              "      <td>81077240.0</td>\n",
              "      <td>1.835067</td>\n",
              "    </tr>\n",
              "    <tr>\n",
              "      <th>2016-01-05</th>\n",
              "      <td>2.15819</td>\n",
              "      <td>2.10332</td>\n",
              "      <td>2.15819</td>\n",
              "      <td>2.12161</td>\n",
              "      <td>106283497.0</td>\n",
              "      <td>1.819382</td>\n",
              "    </tr>\n",
              "    <tr>\n",
              "      <th>2016-01-06</th>\n",
              "      <td>2.19477</td>\n",
              "      <td>2.12161</td>\n",
              "      <td>2.13990</td>\n",
              "      <td>2.17648</td>\n",
              "      <td>102702474.0</td>\n",
              "      <td>1.866436</td>\n",
              "    </tr>\n",
              "    <tr>\n",
              "      <th>2016-01-07</th>\n",
              "      <td>2.15819</td>\n",
              "      <td>2.12161</td>\n",
              "      <td>2.12161</td>\n",
              "      <td>2.12161</td>\n",
              "      <td>83287987.0</td>\n",
              "      <td>1.819382</td>\n",
              "    </tr>\n",
              "    <tr>\n",
              "      <th>2016-01-08</th>\n",
              "      <td>2.15819</td>\n",
              "      <td>2.12161</td>\n",
              "      <td>2.13990</td>\n",
              "      <td>2.15819</td>\n",
              "      <td>92758869.0</td>\n",
              "      <td>1.850752</td>\n",
              "    </tr>\n",
              "  </tbody>\n",
              "</table>\n",
              "</div>"
            ],
            "text/plain": [
              "               High      Low     Open    Close       Volume  Adj Close\n",
              "Date                                                                  \n",
              "2016-01-04  2.19477  2.13990  2.19477  2.13990   81077240.0   1.835067\n",
              "2016-01-05  2.15819  2.10332  2.15819  2.12161  106283497.0   1.819382\n",
              "2016-01-06  2.19477  2.12161  2.13990  2.17648  102702474.0   1.866436\n",
              "2016-01-07  2.15819  2.12161  2.12161  2.12161   83287987.0   1.819382\n",
              "2016-01-08  2.15819  2.12161  2.13990  2.15819   92758869.0   1.850752"
            ]
          },
          "metadata": {
            "tags": []
          },
          "execution_count": 3
        }
      ]
    },
    {
      "cell_type": "code",
      "metadata": {
        "id": "oZLA8qlv4hsr"
      },
      "source": [
        "# Get the Adjusted Close Price\r\n",
        "df = df[['Adj Close']]"
      ],
      "execution_count": null,
      "outputs": []
    },
    {
      "cell_type": "code",
      "metadata": {
        "colab": {
          "base_uri": "https://localhost:8080/"
        },
        "id": "C_EnIbSS5GXF",
        "outputId": "0892b038-d138-4968-c696-2509caa43a88"
      },
      "source": [
        "# Take a look at the new data\r\n",
        "print(df.head())"
      ],
      "execution_count": null,
      "outputs": [
        {
          "output_type": "stream",
          "text": [
            "            Adj Close\n",
            "Date                 \n",
            "2016-01-04   1.835067\n",
            "2016-01-05   1.819382\n",
            "2016-01-06   1.866436\n",
            "2016-01-07   1.819382\n",
            "2016-01-08   1.850752\n"
          ],
          "name": "stdout"
        }
      ]
    },
    {
      "cell_type": "code",
      "metadata": {
        "colab": {
          "base_uri": "https://localhost:8080/"
        },
        "id": "wLdl2JX05ONC",
        "outputId": "951455b2-d2f1-4f69-82c3-b76876699a5f"
      },
      "source": [
        "print(df.tail())"
      ],
      "execution_count": null,
      "outputs": [
        {
          "output_type": "stream",
          "text": [
            "            Adj Close\n",
            "Date                 \n",
            "2020-12-24       1.13\n",
            "2020-12-25       1.14\n",
            "2020-12-28       1.10\n",
            "2020-12-29       1.12\n",
            "2020-12-30       1.08\n"
          ],
          "name": "stdout"
        }
      ]
    },
    {
      "cell_type": "code",
      "metadata": {
        "id": "4_Yzg0fN5fgz"
      },
      "source": [
        "# A variable for prediction 'n' days out into the future\r\n",
        "forecast_out = 1"
      ],
      "execution_count": null,
      "outputs": []
    },
    {
      "cell_type": "code",
      "metadata": {
        "id": "EA5Jr6Yf58sA"
      },
      "source": [
        "# Create anothr column (the target or dependent variable) shifted 'n' units up\r\n",
        "df['Prediction'] = df[['Adj Close']].shift(-forecast_out)"
      ],
      "execution_count": null,
      "outputs": []
    },
    {
      "cell_type": "code",
      "metadata": {
        "colab": {
          "base_uri": "https://localhost:8080/"
        },
        "id": "W29skrhB6VPb",
        "outputId": "f1e45a71-fc11-4290-9584-ca2cab740b76"
      },
      "source": [
        "print(df.head())"
      ],
      "execution_count": null,
      "outputs": [
        {
          "output_type": "stream",
          "text": [
            "            Adj Close  Prediction\n",
            "Date                             \n",
            "2016-01-04   1.835067    1.819382\n",
            "2016-01-05   1.819382    1.866436\n",
            "2016-01-06   1.866436    1.819382\n",
            "2016-01-07   1.819382    1.850752\n",
            "2016-01-08   1.850752    1.788013\n"
          ],
          "name": "stdout"
        }
      ]
    },
    {
      "cell_type": "code",
      "metadata": {
        "colab": {
          "base_uri": "https://localhost:8080/"
        },
        "id": "i1jfnzP16eiR",
        "outputId": "8a39345b-69a5-447b-fff2-b0ee6758d610"
      },
      "source": [
        "print(df.tail())"
      ],
      "execution_count": null,
      "outputs": [
        {
          "output_type": "stream",
          "text": [
            "            Adj Close  Prediction\n",
            "Date                             \n",
            "2020-12-24       1.13        1.14\n",
            "2020-12-25       1.14        1.10\n",
            "2020-12-28       1.10        1.12\n",
            "2020-12-29       1.12        1.08\n",
            "2020-12-30       1.08         NaN\n"
          ],
          "name": "stdout"
        }
      ]
    },
    {
      "cell_type": "code",
      "metadata": {
        "id": "iUscLHNE6jmL"
      },
      "source": [
        "### Create the Independent data set (X)\r\n",
        "# convert the data frame to a numpy array\r\n",
        "X = np.array(df.drop(['Prediction'],1))"
      ],
      "execution_count": null,
      "outputs": []
    },
    {
      "cell_type": "code",
      "metadata": {
        "id": "PbrzqjPq7ewp"
      },
      "source": [
        "# Remove the last 'n' rows \r\n",
        "X = X[:-forecast_out]"
      ],
      "execution_count": null,
      "outputs": []
    },
    {
      "cell_type": "code",
      "metadata": {
        "colab": {
          "base_uri": "https://localhost:8080/"
        },
        "id": "j5SSj90z7vkp",
        "outputId": "03e07689-e166-4a32-bebb-48b49cc60c3f"
      },
      "source": [
        "print(X)"
      ],
      "execution_count": null,
      "outputs": [
        {
          "output_type": "stream",
          "text": [
            "[[1.83506691]\n",
            " [1.81938207]\n",
            " [1.86643624]\n",
            " ...\n",
            " [1.13999999]\n",
            " [1.10000002]\n",
            " [1.12      ]]\n"
          ],
          "name": "stdout"
        }
      ]
    },
    {
      "cell_type": "code",
      "metadata": {
        "id": "v1NQ3nrt70jb"
      },
      "source": [
        "### Create the independent data set (y)\r\n",
        "# Convert the dataframe to a numpy array (All of the values including the NaN's)\r\n",
        "y = np.array(df['Prediction'])"
      ],
      "execution_count": null,
      "outputs": []
    },
    {
      "cell_type": "code",
      "metadata": {
        "id": "5fMoXmCK9R1n"
      },
      "source": [
        "# Get all of the y values except the last 'n' rows\r\n",
        "y = y[:-forecast_out]"
      ],
      "execution_count": null,
      "outputs": []
    },
    {
      "cell_type": "code",
      "metadata": {
        "colab": {
          "base_uri": "https://localhost:8080/"
        },
        "id": "lhDIkylJ9drx",
        "outputId": "77c50782-fe31-4a31-e3c3-4d12c1f577aa"
      },
      "source": [
        "print(y)"
      ],
      "execution_count": null,
      "outputs": [
        {
          "output_type": "stream",
          "text": [
            "[1.81938207 1.86643624 1.81938207 ... 1.10000002 1.12       1.08000004]\n"
          ],
          "name": "stdout"
        }
      ]
    },
    {
      "cell_type": "code",
      "metadata": {
        "id": "sbrMur1P9f_3"
      },
      "source": [
        "# Split the data into 80% training and 20% testting\r\n",
        "x_train,x_test,y_train,y_test = train_test_split(X, y ,test_size=0.3)"
      ],
      "execution_count": null,
      "outputs": []
    },
    {
      "cell_type": "code",
      "metadata": {
        "id": "_QiiwiOh-B5s"
      },
      "source": [
        "# Create and train the Support Vector Machine (Regressor)\r\n",
        "svr_rbf = SVR(kernel='rbf',C=1e3,gamma=0.1)"
      ],
      "execution_count": null,
      "outputs": []
    },
    {
      "cell_type": "code",
      "metadata": {
        "colab": {
          "base_uri": "https://localhost:8080/"
        },
        "id": "W1vNoSLf-b6G",
        "outputId": "20171120-b32b-48f4-a803-a028a0f7bc93"
      },
      "source": [
        "svr_rbf.fit(x_train,y_train)"
      ],
      "execution_count": null,
      "outputs": [
        {
          "output_type": "execute_result",
          "data": {
            "text/plain": [
              "SVR(C=1000.0, cache_size=200, coef0=0.0, degree=3, epsilon=0.1, gamma=0.1,\n",
              "    kernel='rbf', max_iter=-1, shrinking=True, tol=0.001, verbose=False)"
            ]
          },
          "metadata": {
            "tags": []
          },
          "execution_count": 19
        }
      ]
    },
    {
      "cell_type": "code",
      "metadata": {
        "id": "FnsADitv-t2g"
      },
      "source": [
        "# Testing Model: Score returns the coefficient of determination R^2 of the prediction\r\n",
        "# The best possible score is 1.0\r\n",
        "svm_confidence = svr_rbf.score(x_test,y_test)"
      ],
      "execution_count": null,
      "outputs": []
    },
    {
      "cell_type": "code",
      "metadata": {
        "colab": {
          "base_uri": "https://localhost:8080/"
        },
        "id": "2rN-3NQ2_JUY",
        "outputId": "35d2509d-04fa-4309-a51c-384de48b3adc"
      },
      "source": [
        "print(\"svm confidence: \", svm_confidence)"
      ],
      "execution_count": null,
      "outputs": [
        {
          "output_type": "stream",
          "text": [
            "svm confidence:  0.992047135073574\n"
          ],
          "name": "stdout"
        }
      ]
    },
    {
      "cell_type": "code",
      "metadata": {
        "id": "DS-CQyii_Qvc"
      },
      "source": [
        "# Create and trainLinear Regression Model\r\n",
        "lr = LinearRegression()"
      ],
      "execution_count": null,
      "outputs": []
    },
    {
      "cell_type": "code",
      "metadata": {
        "colab": {
          "base_uri": "https://localhost:8080/"
        },
        "id": "OkkGFmW8_f29",
        "outputId": "ac4e82e1-b688-446e-bb98-1fc4bff67bdb"
      },
      "source": [
        "# Train the model\r\n",
        "lr.fit(x_train,y_train)"
      ],
      "execution_count": null,
      "outputs": [
        {
          "output_type": "execute_result",
          "data": {
            "text/plain": [
              "LinearRegression(copy_X=True, fit_intercept=True, n_jobs=None, normalize=False)"
            ]
          },
          "metadata": {
            "tags": []
          },
          "execution_count": 23
        }
      ]
    },
    {
      "cell_type": "code",
      "metadata": {
        "id": "1bIpRy2a_sAA"
      },
      "source": [
        "# Testing Model: Score returns the coefficient of determination R^2 of the prediction\r\n",
        "# The best possible score is 1.0\r\n",
        "lr_confidence = lr.score(x_test,y_test)"
      ],
      "execution_count": null,
      "outputs": []
    },
    {
      "cell_type": "code",
      "metadata": {
        "colab": {
          "base_uri": "https://localhost:8080/"
        },
        "id": "0yNAvFuW_26q",
        "outputId": "e7d5da56-3a8f-4f82-f335-9d46d9ac7f0a"
      },
      "source": [
        "print(\"lr confidence: \", lr_confidence)"
      ],
      "execution_count": null,
      "outputs": [
        {
          "output_type": "stream",
          "text": [
            "lr confidence:  0.9933464589601162\n"
          ],
          "name": "stdout"
        }
      ]
    },
    {
      "cell_type": "code",
      "metadata": {
        "id": "ZLd7BrS0_-Pr"
      },
      "source": [
        "# Set x_forecast equal to the last 30 rows of the original ata set from Adj Close columns\r\n",
        "x_forecast = np.array(df.drop(['Prediction'],1))[-forecast_out:]"
      ],
      "execution_count": null,
      "outputs": []
    },
    {
      "cell_type": "code",
      "metadata": {
        "colab": {
          "base_uri": "https://localhost:8080/"
        },
        "id": "3DDQkdnHAUbd",
        "outputId": "27648680-e952-4241-e95a-a0730af0499e"
      },
      "source": [
        "print(x_forecast)"
      ],
      "execution_count": null,
      "outputs": [
        {
          "output_type": "stream",
          "text": [
            "[[1.08000004]]\n"
          ],
          "name": "stdout"
        }
      ]
    },
    {
      "cell_type": "code",
      "metadata": {
        "id": "24SaFGviAi4k"
      },
      "source": [
        "# Print the predictions for the next 'n' days\r\n",
        "lr_prediction = lr.predict(x_forecast)"
      ],
      "execution_count": null,
      "outputs": []
    },
    {
      "cell_type": "code",
      "metadata": {
        "colab": {
          "base_uri": "https://localhost:8080/"
        },
        "id": "sddDW2WkAywE",
        "outputId": "2717ecf4-acbf-49eb-f99e-1e84c3319530"
      },
      "source": [
        "print(lr_prediction)"
      ],
      "execution_count": null,
      "outputs": [
        {
          "output_type": "stream",
          "text": [
            "[1.08037663]\n"
          ],
          "name": "stdout"
        }
      ]
    },
    {
      "cell_type": "code",
      "metadata": {
        "id": "TXNiD3ybA9FZ"
      },
      "source": [
        "# Print the predictions for the next 'n' days\r\n",
        "svm_prediction = svr_rbf.predict(x_forecast)"
      ],
      "execution_count": null,
      "outputs": []
    },
    {
      "cell_type": "code",
      "metadata": {
        "colab": {
          "base_uri": "https://localhost:8080/"
        },
        "id": "wIuFmWm9BAQw",
        "outputId": "66d62dae-d841-4dca-dbbd-43928f53d377"
      },
      "source": [
        "print(svm_prediction)"
      ],
      "execution_count": null,
      "outputs": [
        {
          "output_type": "stream",
          "text": [
            "[1.07849937]\n"
          ],
          "name": "stdout"
        }
      ]
    }
  ]
}