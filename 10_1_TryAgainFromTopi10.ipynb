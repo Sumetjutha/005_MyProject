{
  "nbformat": 4,
  "nbformat_minor": 0,
  "metadata": {
    "colab": {
      "name": "10_1_TryAgainFromTopi10.ipynb",
      "provenance": [],
      "collapsed_sections": [],
      "mount_file_id": "1UDrpI0hMBWErL44uYasxwAs_YAtU6wft",
      "authorship_tag": "ABX9TyNzCrbJ6zsryVdckENWhMzJ",
      "include_colab_link": true
    },
    "kernelspec": {
      "name": "python3",
      "display_name": "Python 3"
    }
  },
  "cells": [
    {
      "cell_type": "markdown",
      "metadata": {
        "id": "view-in-github",
        "colab_type": "text"
      },
      "source": [
        "<a href=\"https://colab.research.google.com/github/Sumetjutha/MyProject/blob/main/10_1_TryAgainFromTopi10.ipynb\" target=\"_parent\"><img src=\"https://colab.research.google.com/assets/colab-badge.svg\" alt=\"Open In Colab\"/></a>"
      ]
    },
    {
      "cell_type": "code",
      "metadata": {
        "colab": {
          "base_uri": "https://localhost:8080/"
        },
        "id": "EdIP7fxBhII7",
        "outputId": "b8dd277d-e15d-4dba-e4a8-9774052199c8"
      },
      "source": [
        "!pip install nltk\r\n",
        "!pip install newspaper3k"
      ],
      "execution_count": null,
      "outputs": [
        {
          "output_type": "stream",
          "text": [
            "Requirement already satisfied: nltk in /usr/local/lib/python3.6/dist-packages (3.2.5)\n",
            "Requirement already satisfied: six in /usr/local/lib/python3.6/dist-packages (from nltk) (1.15.0)\n",
            "Requirement already satisfied: newspaper3k in /usr/local/lib/python3.6/dist-packages (0.2.8)\n",
            "Requirement already satisfied: nltk>=3.2.1 in /usr/local/lib/python3.6/dist-packages (from newspaper3k) (3.2.5)\n",
            "Requirement already satisfied: Pillow>=3.3.0 in /usr/local/lib/python3.6/dist-packages (from newspaper3k) (7.0.0)\n",
            "Requirement already satisfied: feedparser>=5.2.1 in /usr/local/lib/python3.6/dist-packages (from newspaper3k) (6.0.2)\n",
            "Requirement already satisfied: tldextract>=2.0.1 in /usr/local/lib/python3.6/dist-packages (from newspaper3k) (3.1.0)\n",
            "Requirement already satisfied: feedfinder2>=0.0.4 in /usr/local/lib/python3.6/dist-packages (from newspaper3k) (0.0.4)\n",
            "Requirement already satisfied: tinysegmenter==0.3 in /usr/local/lib/python3.6/dist-packages (from newspaper3k) (0.3)\n",
            "Requirement already satisfied: beautifulsoup4>=4.4.1 in /usr/local/lib/python3.6/dist-packages (from newspaper3k) (4.6.3)\n",
            "Requirement already satisfied: lxml>=3.6.0 in /usr/local/lib/python3.6/dist-packages (from newspaper3k) (4.2.6)\n",
            "Requirement already satisfied: python-dateutil>=2.5.3 in /usr/local/lib/python3.6/dist-packages (from newspaper3k) (2.8.1)\n",
            "Requirement already satisfied: cssselect>=0.9.2 in /usr/local/lib/python3.6/dist-packages (from newspaper3k) (1.1.0)\n",
            "Requirement already satisfied: PyYAML>=3.11 in /usr/local/lib/python3.6/dist-packages (from newspaper3k) (3.13)\n",
            "Requirement already satisfied: jieba3k>=0.35.1 in /usr/local/lib/python3.6/dist-packages (from newspaper3k) (0.35.1)\n",
            "Requirement already satisfied: requests>=2.10.0 in /usr/local/lib/python3.6/dist-packages (from newspaper3k) (2.23.0)\n",
            "Requirement already satisfied: six in /usr/local/lib/python3.6/dist-packages (from nltk>=3.2.1->newspaper3k) (1.15.0)\n",
            "Requirement already satisfied: sgmllib3k in /usr/local/lib/python3.6/dist-packages (from feedparser>=5.2.1->newspaper3k) (1.0.0)\n",
            "Requirement already satisfied: requests-file>=1.4 in /usr/local/lib/python3.6/dist-packages (from tldextract>=2.0.1->newspaper3k) (1.5.1)\n",
            "Requirement already satisfied: filelock>=3.0.8 in /usr/local/lib/python3.6/dist-packages (from tldextract>=2.0.1->newspaper3k) (3.0.12)\n",
            "Requirement already satisfied: idna in /usr/local/lib/python3.6/dist-packages (from tldextract>=2.0.1->newspaper3k) (2.10)\n",
            "Requirement already satisfied: certifi>=2017.4.17 in /usr/local/lib/python3.6/dist-packages (from requests>=2.10.0->newspaper3k) (2020.12.5)\n",
            "Requirement already satisfied: chardet<4,>=3.0.2 in /usr/local/lib/python3.6/dist-packages (from requests>=2.10.0->newspaper3k) (3.0.4)\n",
            "Requirement already satisfied: urllib3!=1.25.0,!=1.25.1,<1.26,>=1.21.1 in /usr/local/lib/python3.6/dist-packages (from requests>=2.10.0->newspaper3k) (1.24.3)\n"
          ],
          "name": "stdout"
        }
      ]
    },
    {
      "cell_type": "code",
      "metadata": {
        "id": "dQ-326NYgrDv"
      },
      "source": [
        "# Import Library\r\n",
        "import nltk\r\n",
        "from newspaper import Article"
      ],
      "execution_count": null,
      "outputs": []
    },
    {
      "cell_type": "code",
      "metadata": {
        "id": "YxN_9dujhOQ-"
      },
      "source": [
        "# Get the article\r\n",
        "url = 'https://www.washingtonpost.com/sports/2021/01/13/mesut-ozil-dc-united-rumors/'\r\n",
        "article = Article(url)"
      ],
      "execution_count": null,
      "outputs": []
    },
    {
      "cell_type": "code",
      "metadata": {
        "colab": {
          "base_uri": "https://localhost:8080/"
        },
        "id": "1Y8PWuqZhUnN",
        "outputId": "22363c04-2a91-4a75-fdd0-1696d3267680"
      },
      "source": [
        "# Do some NLP\r\n",
        "article.download()\r\n",
        "article.parse()\r\n",
        "nltk.download('punkt')\r\n",
        "article.nlp()"
      ],
      "execution_count": null,
      "outputs": [
        {
          "output_type": "stream",
          "text": [
            "[nltk_data] Downloading package punkt to /root/nltk_data...\n",
            "[nltk_data]   Package punkt is already up-to-date!\n"
          ],
          "name": "stdout"
        }
      ]
    },
    {
      "cell_type": "code",
      "metadata": {
        "colab": {
          "base_uri": "https://localhost:8080/"
        },
        "id": "xwQbM2UHhXRm",
        "outputId": "72cb0dc6-28ef-4308-e2af-4e9b0905802c"
      },
      "source": [
        "# Get the authors\r\n",
        "article.authors"
      ],
      "execution_count": null,
      "outputs": [
        {
          "output_type": "execute_result",
          "data": {
            "text/plain": [
              "['Steven Goff',\n",
              " 'Reporter Covering Soccer',\n",
              " 'D.C. United',\n",
              " 'Mls',\n",
              " 'U.S. National Teams',\n",
              " 'World Cup',\n",
              " 'Plus Some College Basketball.']"
            ]
          },
          "metadata": {
            "tags": []
          },
          "execution_count": 30
        }
      ]
    },
    {
      "cell_type": "code",
      "metadata": {
        "colab": {
          "base_uri": "https://localhost:8080/"
        },
        "id": "QwpsVF7lhbkI",
        "outputId": "1ab47e71-7b3d-43cb-db77-9af003318b67"
      },
      "source": [
        "# Get the publish date\r\n",
        "article.publish_date"
      ],
      "execution_count": null,
      "outputs": [
        {
          "output_type": "execute_result",
          "data": {
            "text/plain": [
              "datetime.datetime(2021, 1, 13, 0, 0)"
            ]
          },
          "metadata": {
            "tags": []
          },
          "execution_count": 31
        }
      ]
    },
    {
      "cell_type": "code",
      "metadata": {
        "colab": {
          "base_uri": "https://localhost:8080/",
          "height": 54
        },
        "id": "h5OO-IY0hcqm",
        "outputId": "5bdea9e2-dc7b-4165-f930-113d7336326f"
      },
      "source": [
        "# Get the top image\r\n",
        "article.top_image"
      ],
      "execution_count": null,
      "outputs": [
        {
          "output_type": "execute_result",
          "data": {
            "application/vnd.google.colaboratory.intrinsic+json": {
              "type": "string"
            },
            "text/plain": [
              "'https://www.washingtonpost.com/wp-apps/imrs.php?src=https://arc-anglerfish-washpost-prod-washpost.s3.amazonaws.com/public/G73IPARIQJGLRCK26XXYF4NRIQ.jpg&w=1440'"
            ]
          },
          "metadata": {
            "tags": []
          },
          "execution_count": 32
        }
      ]
    },
    {
      "cell_type": "code",
      "metadata": {
        "colab": {
          "base_uri": "https://localhost:8080/"
        },
        "id": "HYt9VSN8h34G",
        "outputId": "b22b7293-5b67-484a-e257-ae13f2439bad"
      },
      "source": [
        "# Get the article text\r\n",
        "print(article.text)"
      ],
      "execution_count": null,
      "outputs": [
        {
          "output_type": "stream",
          "text": [
            "But as Özil’s tenure at Arsenal in the English Premier League winds down — and, at 32, his career enters the next phase — United’s prospects of acquiring one of the sport’s most artful players should not be discounted.\n",
            "\n",
            "Their chances appear low, but they’re not zero, either.\n",
            "\n",
            "AD\n",
            "\n",
            "United officials have nurtured a relationship with Özil’s agent, Erkut Sogut, and have stayed in close contact in hopes of tempting the German midfielder to Buzzard Point this summer.\n",
            "\n",
            "AD\n",
            "\n",
            "In other words, United continues to explore whether a deal makes sense and is possible.\n",
            "\n",
            "The scramble for Özil’s services accelerated at the beginning of January, when he hit the six-month threshold before his Arsenal contract expires. In soccer, players are allowed to sign a precontract with another club, free of any hefty transfer fees that would weigh down a potential deal.\n",
            "\n",
            "Arsenal supporters would love to see him go right away, clearing the payroll for acquisitions in a season that started poorly and has begun to brighten.\n",
            "\n",
            "AD\n",
            "\n",
            "If that were to happen, the clear favorite is Fenerbahçe, one of three big clubs in Istanbul. Özil is a third-generation Turkish-German who grew up in Turkish culture in Germany’s Ruhr region. Turkish President Recep Tayyip Erdogan was the best man at his wedding to Amine Gülse, who was crowned Miss Turkey in 2014.\n",
            "\n",
            "AD\n",
            "\n",
            "His pro tenure has included two Bundesliga clubs, plus Real Madrid and Arsenal, but none in Turkey, where the league is formidable but a step down from the major European circuits.\n",
            "\n",
            "Turkey, as the next destination, would make the most sense.\n",
            "\n",
            "“There are two countries I want to play football in before I retire: Turkey and USA,” Özil wrote Monday in a chat with his 25.5 million Twitter followers. “If I went to Turkey, I could only go to Fenerbahçe.”\n",
            "\n",
            "Fenerbahçe has not been his only suitor. Aside from United, there have been reports of interest around the world, including China, though Özil’s prospects of playing there closed last winter when he criticized the Chinese government’s treatment of Uighurs, a Muslim minority.\n",
            "\n",
            "AD\n",
            "\n",
            "United would offer a fresh start, far from the commotion of European soccer. He would be the centerpiece of not only the roster but the organization, akin to English star Wayne Rooney in Washington in 2018-19.\n",
            "\n",
            "AD\n",
            "\n",
            "Aside from Rooney, United’s most recognizable figure the past decade has been its previous coach, Ben Olsen, who was fired in October.\n",
            "\n",
            "United foresaw Rooney staying through the 2021 season, perhaps overlapping with Özil’s arrival. That plan was scuttled when Rooney abruptly returned home after 1½ seasons.\n",
            "\n",
            "Nonetheless, United has maintained hope of bringing over Özil.\n",
            "\n",
            "Beyond his playing role, Özil could further his clothing brand and coffee business. Starting in 2019, signs promoting his 39 Steps Coffee Haus covered windows in commercial space on the southwest corner of Audi Field.\n",
            "\n",
            "AD\n",
            "\n",
            "Team officials said that arrangement was unrelated to Özil possibly playing here, though it’s hard to believe an unknown coffee brand with storefronts only in London wasn’t part of broader ambitions.\n",
            "\n",
            "The biggest hurdle in acquiring Özil is money, of course. For the past year, United could afford neither a large transfer fee nor a competitive salary. With free agency this summer, though, a transfer fee would not apply.\n",
            "\n",
            "AD\n",
            "\n",
            "His Arsenal salary is $24 million. United’s 2019 team payroll was $10.5 million.\n",
            "\n",
            "On the backside of a marvelous career, however, Özil is not expecting to make that kind of money anymore, no matter where he is employed. Realistically, United could offer some $5 million annually.\n",
            "\n",
            "AD\n",
            "\n",
            "Because of disruptions caused by the coronavirus pandemic, the MLS Players Association did not release 2020 player salaries. In 2019, Los Angeles Galaxy striker Zlatan Ibrahimovic was MLS’s highest paid at $7.2 million. Eight others made at least $3 million.\n",
            "\n",
            "For United, there is risk involved. Özil fell out of favor with Arsenal Manager Mikel Arteta this past spring and has not played since the pandemic hit. When the season started in September, he was left off the 25-man roster for Premier League and Europa League matches through this month.\n",
            "\n",
            "AD\n",
            "\n",
            "If he were to join United in July, he probably will have gone 16 months without competition.\n",
            "\n",
            "This isn’t to say Özil is done as a world-class player. Fenerbahçe sees his value, and in Washington, he would become perhaps the most influential player in MLS.\n",
            "\n",
            "AD\n",
            "\n",
            "Unlike Rooney, though, Özil is not a goal scorer; he’s a facilitator. Coming off a miserable 2020 season, United would have to ensure an adequate supporting cast.\n",
            "\n",
            "The question United would have to ask itself is whether this is the path it thinks it should take.\n",
            "\n",
            "As with the Rooney signing, United would enhance its global brand and ticket sales. It would regain relevance in a congested sports market, even if casual sports fans are less familiar with Özil than Rooney, the former Manchester United and English national team superstar.\n",
            "\n",
            "United would invest in a player whose peak days are behind him and, like Rooney, could ruin the grand plan by returning home earlier than expected. Then what? When Rooney left, United saw steep declines in performance and public interest.\n"
          ],
          "name": "stdout"
        }
      ]
    },
    {
      "cell_type": "code",
      "metadata": {
        "colab": {
          "base_uri": "https://localhost:8080/"
        },
        "id": "A0hlJHN0h8BT",
        "outputId": "bf3bb992-42e8-4263-e66c-acc76658f127"
      },
      "source": [
        "# Get a summary of the article\r\n",
        "print(article.summary)"
      ],
      "execution_count": null,
      "outputs": [
        {
          "output_type": "stream",
          "text": [
            "The scramble for Özil’s services accelerated at the beginning of January, when he hit the six-month threshold before his Arsenal contract expires.\n",
            "Özil fell out of favor with Arsenal Manager Mikel Arteta this past spring and has not played since the pandemic hit.\n",
            "Coming off a miserable 2020 season, United would have to ensure an adequate supporting cast.\n",
            "The question United would have to ask itself is whether this is the path it thinks it should take.\n",
            "As with the Rooney signing, United would enhance its global brand and ticket sales.\n"
          ],
          "name": "stdout"
        }
      ]
    }
  ]
}