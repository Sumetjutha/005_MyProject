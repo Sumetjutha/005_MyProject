{
  "nbformat": 4,
  "nbformat_minor": 0,
  "metadata": {
    "colab": {
      "name": "3_Simple_Decision_Tree_Program.ipynb",
      "provenance": [],
      "collapsed_sections": [],
      "mount_file_id": "1E7FCwJInjYcX2lZLj3MEcys_EEpHlnGR",
      "authorship_tag": "ABX9TyMaV62P+SFSzc6AnvSFQCmW",
      "include_colab_link": true
    },
    "kernelspec": {
      "name": "python3",
      "display_name": "Python 3"
    }
  },
  "cells": [
    {
      "cell_type": "markdown",
      "metadata": {
        "id": "view-in-github",
        "colab_type": "text"
      },
      "source": [
        "<a href=\"https://colab.research.google.com/github/Sumetjutha/MyProject/blob/main/3_Simple_Decision_Tree_Program.ipynb\" target=\"_parent\"><img src=\"https://colab.research.google.com/assets/colab-badge.svg\" alt=\"Open In Colab\"/></a>"
      ]
    },
    {
      "cell_type": "code",
      "metadata": {
        "id": "bJHl29oXunbF"
      },
      "source": [
        "# This Program Uses a machine learning algorithm called a Decision Tree\r\n",
        "# Classifier to classify a car as 'unacceptable' , 'accepted'\r\n",
        "# 'good' or 'very good'\r\n",
        "\r\n",
        "# Import the dependencies / library\r\n",
        "import numpy as np\r\n",
        "import pandas as pd\r\n",
        "from sklearn.tree import DecisionTreeClassifier"
      ],
      "execution_count": 1,
      "outputs": []
    },
    {
      "cell_type": "code",
      "metadata": {
        "id": "yX7mNPLEwNAV"
      },
      "source": [
        "# Create a dataframe from the data set\r\n",
        "df = pd.read_csv('/content/drive/MyDrive/MyProject/car_evaluation - dummy.csv')"
      ],
      "execution_count": 11,
      "outputs": []
    },
    {
      "cell_type": "code",
      "metadata": {
        "colab": {
          "base_uri": "https://localhost:8080/"
        },
        "id": "FqeH5HAowXX3",
        "outputId": "177f8092-4072-4bfa-8388-32dce1838c3f"
      },
      "source": [
        "# Print the first 5 row of the data set\r\n",
        "print(df.head())"
      ],
      "execution_count": 12,
      "outputs": [
        {
          "output_type": "stream",
          "text": [
            "   buying  maint  doors  persons  lug_boot  safety  values\n",
            "0       4      4      2        2         1       1       1\n",
            "1       4      4      2        2         1       2       1\n",
            "2       4      4      2        2         1       3       1\n",
            "3       4      4      2        2         2       1       1\n",
            "4       4      4      2        2         2       2       1\n"
          ],
          "name": "stdout"
        }
      ]
    },
    {
      "cell_type": "code",
      "metadata": {
        "id": "fDhuOv7Rxzyr"
      },
      "source": [
        "# Split the data into the independent variables and the dependent variable\r\n",
        "# Train the Dicision tree\r\n",
        "x_train = df.loc[:,'buying':'safety']"
      ],
      "execution_count": 13,
      "outputs": []
    },
    {
      "cell_type": "code",
      "metadata": {
        "id": "HIdlTwP_w0c4"
      },
      "source": [
        "y_train = df.loc[:,'values']"
      ],
      "execution_count": 14,
      "outputs": []
    },
    {
      "cell_type": "code",
      "metadata": {
        "id": "-jpGkkrIyVfh"
      },
      "source": [
        "# Create the decision tree classifier\r\n",
        "tree = DecisionTreeClassifier(max_leaf_nodes=3, random_state=0)"
      ],
      "execution_count": 15,
      "outputs": []
    },
    {
      "cell_type": "code",
      "metadata": {
        "colab": {
          "base_uri": "https://localhost:8080/"
        },
        "id": "LvNh54Mu0gFV",
        "outputId": "df4191aa-565c-4f04-d6ce-c3a10e9e2158"
      },
      "source": [
        "# Train the model\r\n",
        "tree.fit(x_train, y_train)"
      ],
      "execution_count": 18,
      "outputs": [
        {
          "output_type": "execute_result",
          "data": {
            "text/plain": [
              "DecisionTreeClassifier(ccp_alpha=0.0, class_weight=None, criterion='gini',\n",
              "                       max_depth=None, max_features=None, max_leaf_nodes=3,\n",
              "                       min_impurity_decrease=0.0, min_impurity_split=None,\n",
              "                       min_samples_leaf=1, min_samples_split=2,\n",
              "                       min_weight_fraction_leaf=0.0, presort='deprecated',\n",
              "                       random_state=0, splitter='best')"
            ]
          },
          "metadata": {
            "tags": []
          },
          "execution_count": 18
        }
      ]
    },
    {
      "cell_type": "code",
      "metadata": {
        "id": "nuw0UZjm0rm4"
      },
      "source": [
        "# Make our prediction\r\n",
        "# input: buying=vhigh=4, main=high, doors=2, person=2, lug_boot=med=2, safety=3\r\n",
        "prediction = tree.predict([[4,3,2,2,2,3]])"
      ],
      "execution_count": 19,
      "outputs": []
    },
    {
      "cell_type": "code",
      "metadata": {
        "colab": {
          "base_uri": "https://localhost:8080/"
        },
        "id": "WJUksNK81lR_",
        "outputId": "c9b22154-d898-4169-fb4e-8fc26b2e30cc"
      },
      "source": [
        "# Print the prediction\r\n",
        "print(prediction)"
      ],
      "execution_count": 20,
      "outputs": [
        {
          "output_type": "stream",
          "text": [
            "[1]\n"
          ],
          "name": "stdout"
        }
      ]
    }
  ]
}