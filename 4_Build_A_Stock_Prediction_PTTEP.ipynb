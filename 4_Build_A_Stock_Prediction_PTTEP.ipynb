{
  "nbformat": 4,
  "nbformat_minor": 0,
  "metadata": {
    "colab": {
      "name": "4_Build_A_Stock_Prediction_PTTEP.ipynb",
      "provenance": [],
      "collapsed_sections": [],
      "mount_file_id": "1E8guJiaPrLYyBiiT2ETe6vpifC21b2zt",
      "authorship_tag": "ABX9TyMcRKNeQ7qrhcmRCDSRfdV0",
      "include_colab_link": true
    },
    "kernelspec": {
      "name": "python3",
      "display_name": "Python 3"
    }
  },
  "cells": [
    {
      "cell_type": "markdown",
      "metadata": {
        "id": "view-in-github",
        "colab_type": "text"
      },
      "source": [
        "<a href=\"https://colab.research.google.com/github/Sumetjutha/MyProject/blob/main/4_Build_A_Stock_Prediction_PTTEP.ipynb\" target=\"_parent\"><img src=\"https://colab.research.google.com/assets/colab-badge.svg\" alt=\"Open In Colab\"/></a>"
      ]
    },
    {
      "cell_type": "code",
      "metadata": {
        "colab": {
          "base_uri": "https://localhost:8080/"
        },
        "id": "DttnAfkU4Yyd",
        "outputId": "a7ebce71-1074-43c0-ee1e-813656fc8457"
      },
      "source": [
        "!pip install quandl"
      ],
      "execution_count": 33,
      "outputs": [
        {
          "output_type": "stream",
          "text": [
            "Requirement already satisfied: quandl in /usr/local/lib/python3.6/dist-packages (3.5.3)\n",
            "Requirement already satisfied: numpy>=1.8 in /usr/local/lib/python3.6/dist-packages (from quandl) (1.19.4)\n",
            "Requirement already satisfied: requests>=2.7.0 in /usr/local/lib/python3.6/dist-packages (from quandl) (2.23.0)\n",
            "Requirement already satisfied: more-itertools in /usr/local/lib/python3.6/dist-packages (from quandl) (8.6.0)\n",
            "Requirement already satisfied: six in /usr/local/lib/python3.6/dist-packages (from quandl) (1.15.0)\n",
            "Requirement already satisfied: inflection>=0.3.1 in /usr/local/lib/python3.6/dist-packages (from quandl) (0.5.1)\n",
            "Requirement already satisfied: python-dateutil in /usr/local/lib/python3.6/dist-packages (from quandl) (2.8.1)\n",
            "Requirement already satisfied: pandas>=0.14 in /usr/local/lib/python3.6/dist-packages (from quandl) (1.1.5)\n",
            "Requirement already satisfied: idna<3,>=2.5 in /usr/local/lib/python3.6/dist-packages (from requests>=2.7.0->quandl) (2.10)\n",
            "Requirement already satisfied: chardet<4,>=3.0.2 in /usr/local/lib/python3.6/dist-packages (from requests>=2.7.0->quandl) (3.0.4)\n",
            "Requirement already satisfied: urllib3!=1.25.0,!=1.25.1,<1.26,>=1.21.1 in /usr/local/lib/python3.6/dist-packages (from requests>=2.7.0->quandl) (1.24.3)\n",
            "Requirement already satisfied: certifi>=2017.4.17 in /usr/local/lib/python3.6/dist-packages (from requests>=2.7.0->quandl) (2020.12.5)\n",
            "Requirement already satisfied: pytz>=2017.2 in /usr/local/lib/python3.6/dist-packages (from pandas>=0.14->quandl) (2018.9)\n"
          ],
          "name": "stdout"
        }
      ]
    },
    {
      "cell_type": "code",
      "metadata": {
        "id": "rUZxrHKZ2YfP"
      },
      "source": [
        "# This program Predicts stock prices by nusing machine learning models\r\n",
        "# Install the dependencies\r\n",
        "import quandl\r\n",
        "import numpy as np\r\n",
        "from sklearn.linear_model import LinearRegression\r\n",
        "from sklearn.svm import SVR\r\n",
        "from sklearn.model_selection import train_test_split\r\n",
        "import pandas as pd\r\n",
        "from pandas_datareader import data\r\n",
        "import seaborn as sns\r\n",
        "import matplotlib.pyplot as plt"
      ],
      "execution_count": 74,
      "outputs": []
    },
    {
      "cell_type": "code",
      "metadata": {
        "colab": {
          "base_uri": "https://localhost:8080/",
          "height": 235
        },
        "id": "w14S0oSp3veu",
        "outputId": "57f32d5e-56c8-4897-ac35-f2359607f10a"
      },
      "source": [
        "df = data.DataReader('PTTEP.bk',data_source=\"yahoo\")\r\n",
        "df.head()"
      ],
      "execution_count": 76,
      "outputs": [
        {
          "output_type": "execute_result",
          "data": {
            "text/html": [
              "<div>\n",
              "<style scoped>\n",
              "    .dataframe tbody tr th:only-of-type {\n",
              "        vertical-align: middle;\n",
              "    }\n",
              "\n",
              "    .dataframe tbody tr th {\n",
              "        vertical-align: top;\n",
              "    }\n",
              "\n",
              "    .dataframe thead th {\n",
              "        text-align: right;\n",
              "    }\n",
              "</style>\n",
              "<table border=\"1\" class=\"dataframe\">\n",
              "  <thead>\n",
              "    <tr style=\"text-align: right;\">\n",
              "      <th></th>\n",
              "      <th>High</th>\n",
              "      <th>Low</th>\n",
              "      <th>Open</th>\n",
              "      <th>Close</th>\n",
              "      <th>Volume</th>\n",
              "      <th>Adj Close</th>\n",
              "    </tr>\n",
              "    <tr>\n",
              "      <th>Date</th>\n",
              "      <th></th>\n",
              "      <th></th>\n",
              "      <th></th>\n",
              "      <th></th>\n",
              "      <th></th>\n",
              "      <th></th>\n",
              "    </tr>\n",
              "  </thead>\n",
              "  <tbody>\n",
              "    <tr>\n",
              "      <th>2016-01-04</th>\n",
              "      <td>58.00</td>\n",
              "      <td>55.25</td>\n",
              "      <td>57.00</td>\n",
              "      <td>55.75</td>\n",
              "      <td>5657100.0</td>\n",
              "      <td>44.283619</td>\n",
              "    </tr>\n",
              "    <tr>\n",
              "      <th>2016-01-05</th>\n",
              "      <td>57.25</td>\n",
              "      <td>54.00</td>\n",
              "      <td>57.00</td>\n",
              "      <td>54.00</td>\n",
              "      <td>8163500.0</td>\n",
              "      <td>42.893543</td>\n",
              "    </tr>\n",
              "    <tr>\n",
              "      <th>2016-01-06</th>\n",
              "      <td>54.50</td>\n",
              "      <td>52.75</td>\n",
              "      <td>54.50</td>\n",
              "      <td>54.00</td>\n",
              "      <td>7304800.0</td>\n",
              "      <td>42.893543</td>\n",
              "    </tr>\n",
              "    <tr>\n",
              "      <th>2016-01-07</th>\n",
              "      <td>51.75</td>\n",
              "      <td>48.50</td>\n",
              "      <td>51.00</td>\n",
              "      <td>48.75</td>\n",
              "      <td>14233900.0</td>\n",
              "      <td>38.723339</td>\n",
              "    </tr>\n",
              "    <tr>\n",
              "      <th>2016-01-08</th>\n",
              "      <td>51.25</td>\n",
              "      <td>48.50</td>\n",
              "      <td>49.25</td>\n",
              "      <td>50.25</td>\n",
              "      <td>11249900.0</td>\n",
              "      <td>39.914829</td>\n",
              "    </tr>\n",
              "  </tbody>\n",
              "</table>\n",
              "</div>"
            ],
            "text/plain": [
              "             High    Low   Open  Close      Volume  Adj Close\n",
              "Date                                                         \n",
              "2016-01-04  58.00  55.25  57.00  55.75   5657100.0  44.283619\n",
              "2016-01-05  57.25  54.00  57.00  54.00   8163500.0  42.893543\n",
              "2016-01-06  54.50  52.75  54.50  54.00   7304800.0  42.893543\n",
              "2016-01-07  51.75  48.50  51.00  48.75  14233900.0  38.723339\n",
              "2016-01-08  51.25  48.50  49.25  50.25  11249900.0  39.914829"
            ]
          },
          "metadata": {
            "tags": []
          },
          "execution_count": 76
        }
      ]
    },
    {
      "cell_type": "code",
      "metadata": {
        "id": "oZLA8qlv4hsr"
      },
      "source": [
        "# Get the Adjusted Close Price\r\n",
        "df = df[['Adj Close']]"
      ],
      "execution_count": 77,
      "outputs": []
    },
    {
      "cell_type": "code",
      "metadata": {
        "colab": {
          "base_uri": "https://localhost:8080/"
        },
        "id": "C_EnIbSS5GXF",
        "outputId": "c92a5899-16cf-46c3-d22c-6196e84649ac"
      },
      "source": [
        "# Take a look at the new data\r\n",
        "print(df.head())"
      ],
      "execution_count": 78,
      "outputs": [
        {
          "output_type": "stream",
          "text": [
            "            Adj Close\n",
            "Date                 \n",
            "2016-01-04  44.283619\n",
            "2016-01-05  42.893543\n",
            "2016-01-06  42.893543\n",
            "2016-01-07  38.723339\n",
            "2016-01-08  39.914829\n"
          ],
          "name": "stdout"
        }
      ]
    },
    {
      "cell_type": "code",
      "metadata": {
        "colab": {
          "base_uri": "https://localhost:8080/"
        },
        "id": "wLdl2JX05ONC",
        "outputId": "9b0770e0-bb1b-40bd-e496-de45195d12e6"
      },
      "source": [
        "print(df.tail())"
      ],
      "execution_count": 79,
      "outputs": [
        {
          "output_type": "stream",
          "text": [
            "            Adj Close\n",
            "Date                 \n",
            "2020-12-24      95.75\n",
            "2020-12-25      96.50\n",
            "2020-12-28      95.00\n",
            "2020-12-29      97.75\n",
            "2020-12-30      98.25\n"
          ],
          "name": "stdout"
        }
      ]
    },
    {
      "cell_type": "code",
      "metadata": {
        "id": "4_Yzg0fN5fgz"
      },
      "source": [
        "# A variable for prediction 'n' days out into the future\r\n",
        "forecast_out = 1"
      ],
      "execution_count": 80,
      "outputs": []
    },
    {
      "cell_type": "code",
      "metadata": {
        "id": "EA5Jr6Yf58sA"
      },
      "source": [
        "# Create anothr column (the target or dependent variable) shifted 'n' units up\r\n",
        "df['Prediction'] = df[['Adj Close']].shift(-forecast_out)"
      ],
      "execution_count": 81,
      "outputs": []
    },
    {
      "cell_type": "code",
      "metadata": {
        "colab": {
          "base_uri": "https://localhost:8080/"
        },
        "id": "W29skrhB6VPb",
        "outputId": "246a03fa-a960-4ab8-fb56-7fe1850b27b6"
      },
      "source": [
        "print(df.head())"
      ],
      "execution_count": 82,
      "outputs": [
        {
          "output_type": "stream",
          "text": [
            "            Adj Close  Prediction\n",
            "Date                             \n",
            "2016-01-04  44.283619   42.893543\n",
            "2016-01-05  42.893543   42.893543\n",
            "2016-01-06  42.893543   38.723339\n",
            "2016-01-07  38.723339   39.914829\n",
            "2016-01-08  39.914829   38.723339\n"
          ],
          "name": "stdout"
        }
      ]
    },
    {
      "cell_type": "code",
      "metadata": {
        "colab": {
          "base_uri": "https://localhost:8080/"
        },
        "id": "i1jfnzP16eiR",
        "outputId": "352ca255-8390-4205-f921-eab618ae6783"
      },
      "source": [
        "print(df.tail())"
      ],
      "execution_count": 83,
      "outputs": [
        {
          "output_type": "stream",
          "text": [
            "            Adj Close  Prediction\n",
            "Date                             \n",
            "2020-12-24      95.75       96.50\n",
            "2020-12-25      96.50       95.00\n",
            "2020-12-28      95.00       97.75\n",
            "2020-12-29      97.75       98.25\n",
            "2020-12-30      98.25         NaN\n"
          ],
          "name": "stdout"
        }
      ]
    },
    {
      "cell_type": "code",
      "metadata": {
        "id": "iUscLHNE6jmL"
      },
      "source": [
        "### Create the Independent data set (X)\r\n",
        "# convert the data frame to a numpy array\r\n",
        "X = np.array(df.drop(['Prediction'],1))"
      ],
      "execution_count": 84,
      "outputs": []
    },
    {
      "cell_type": "code",
      "metadata": {
        "id": "PbrzqjPq7ewp"
      },
      "source": [
        "# Remove the last 'n' rows \r\n",
        "X = X[:-forecast_out]"
      ],
      "execution_count": 85,
      "outputs": []
    },
    {
      "cell_type": "code",
      "metadata": {
        "colab": {
          "base_uri": "https://localhost:8080/"
        },
        "id": "j5SSj90z7vkp",
        "outputId": "59b9409c-2b88-43b7-b475-2097e91920d6"
      },
      "source": [
        "print(X)"
      ],
      "execution_count": 86,
      "outputs": [
        {
          "output_type": "stream",
          "text": [
            "[[44.28361893]\n",
            " [42.89354324]\n",
            " [42.89354324]\n",
            " ...\n",
            " [96.5       ]\n",
            " [95.        ]\n",
            " [97.75      ]]\n"
          ],
          "name": "stdout"
        }
      ]
    },
    {
      "cell_type": "code",
      "metadata": {
        "id": "v1NQ3nrt70jb"
      },
      "source": [
        "### Create the independent data set (y)\r\n",
        "# Convert the dataframe to a numpy array (All of the values including the NaN's)\r\n",
        "y = np.array(df['Prediction'])"
      ],
      "execution_count": 87,
      "outputs": []
    },
    {
      "cell_type": "code",
      "metadata": {
        "id": "5fMoXmCK9R1n"
      },
      "source": [
        "# Get all of the y values except the last 'n' rows\r\n",
        "y = y[:-forecast_out]"
      ],
      "execution_count": 88,
      "outputs": []
    },
    {
      "cell_type": "code",
      "metadata": {
        "colab": {
          "base_uri": "https://localhost:8080/"
        },
        "id": "lhDIkylJ9drx",
        "outputId": "65aa0368-3b7b-4dba-e81b-3ba756f798c9"
      },
      "source": [
        "print(y)"
      ],
      "execution_count": 89,
      "outputs": [
        {
          "output_type": "stream",
          "text": [
            "[42.89354324 42.89354324 38.72333908 ... 95.         97.75\n",
            " 98.25      ]\n"
          ],
          "name": "stdout"
        }
      ]
    },
    {
      "cell_type": "code",
      "metadata": {
        "id": "sbrMur1P9f_3"
      },
      "source": [
        "# Split the data into 80% training and 20% testting\r\n",
        "x_train,x_test,y_train,y_test = train_test_split(X, y ,test_size=0.3)"
      ],
      "execution_count": 90,
      "outputs": []
    },
    {
      "cell_type": "code",
      "metadata": {
        "id": "_QiiwiOh-B5s"
      },
      "source": [
        "# Create and train the Support Vector Machine (Regressor)\r\n",
        "svr_rbf = SVR(kernel='rbf',C=1e3,gamma=0.1)"
      ],
      "execution_count": 91,
      "outputs": []
    },
    {
      "cell_type": "code",
      "metadata": {
        "colab": {
          "base_uri": "https://localhost:8080/"
        },
        "id": "W1vNoSLf-b6G",
        "outputId": "2ddce971-f6cd-429e-fa3a-2261ab7e34bf"
      },
      "source": [
        "svr_rbf.fit(x_train,y_train)"
      ],
      "execution_count": 92,
      "outputs": [
        {
          "output_type": "execute_result",
          "data": {
            "text/plain": [
              "SVR(C=1000.0, cache_size=200, coef0=0.0, degree=3, epsilon=0.1, gamma=0.1,\n",
              "    kernel='rbf', max_iter=-1, shrinking=True, tol=0.001, verbose=False)"
            ]
          },
          "metadata": {
            "tags": []
          },
          "execution_count": 92
        }
      ]
    },
    {
      "cell_type": "code",
      "metadata": {
        "id": "FnsADitv-t2g"
      },
      "source": [
        "# Testing Model: Score returns the coefficient of determination R^2 of the prediction\r\n",
        "# The best possible score is 1.0\r\n",
        "svm_confidence = svr_rbf.score(x_test,y_test)"
      ],
      "execution_count": 93,
      "outputs": []
    },
    {
      "cell_type": "code",
      "metadata": {
        "colab": {
          "base_uri": "https://localhost:8080/"
        },
        "id": "2rN-3NQ2_JUY",
        "outputId": "4302ddc7-0a4b-4f0c-9ec1-ed1f32ea3255"
      },
      "source": [
        "print(\"svm confidence: \", svm_confidence)"
      ],
      "execution_count": 94,
      "outputs": [
        {
          "output_type": "stream",
          "text": [
            "svm confidence:  0.9938322843223614\n"
          ],
          "name": "stdout"
        }
      ]
    },
    {
      "cell_type": "code",
      "metadata": {
        "id": "DS-CQyii_Qvc"
      },
      "source": [
        "# Create and trainLinear Regression Model\r\n",
        "lr = LinearRegression()"
      ],
      "execution_count": 95,
      "outputs": []
    },
    {
      "cell_type": "code",
      "metadata": {
        "colab": {
          "base_uri": "https://localhost:8080/"
        },
        "id": "OkkGFmW8_f29",
        "outputId": "7b2a18f3-1027-4d4f-ef80-47b31a153a8e"
      },
      "source": [
        "# Train the model\r\n",
        "lr.fit(x_train,y_train)"
      ],
      "execution_count": 96,
      "outputs": [
        {
          "output_type": "execute_result",
          "data": {
            "text/plain": [
              "LinearRegression(copy_X=True, fit_intercept=True, n_jobs=None, normalize=False)"
            ]
          },
          "metadata": {
            "tags": []
          },
          "execution_count": 96
        }
      ]
    },
    {
      "cell_type": "code",
      "metadata": {
        "id": "1bIpRy2a_sAA"
      },
      "source": [
        "# Testing Model: Score returns the coefficient of determination R^2 of the prediction\r\n",
        "# The best possible score is 1.0\r\n",
        "lr_confidence = lr.score(x_test,y_test)"
      ],
      "execution_count": 97,
      "outputs": []
    },
    {
      "cell_type": "code",
      "metadata": {
        "colab": {
          "base_uri": "https://localhost:8080/"
        },
        "id": "0yNAvFuW_26q",
        "outputId": "1d03bd9a-05bd-4da2-f292-312898283150"
      },
      "source": [
        "print(\"lr confidence: \", lr_confidence)"
      ],
      "execution_count": 98,
      "outputs": [
        {
          "output_type": "stream",
          "text": [
            "lr confidence:  0.9950396429996194\n"
          ],
          "name": "stdout"
        }
      ]
    },
    {
      "cell_type": "code",
      "metadata": {
        "id": "ZLd7BrS0_-Pr"
      },
      "source": [
        "# Set x_forecast equal to the last 30 rows of the original ata set from Adj Close columns\r\n",
        "x_forecast = np.array(df.drop(['Prediction'],1))[-forecast_out:]"
      ],
      "execution_count": 101,
      "outputs": []
    },
    {
      "cell_type": "code",
      "metadata": {
        "colab": {
          "base_uri": "https://localhost:8080/"
        },
        "id": "3DDQkdnHAUbd",
        "outputId": "2975a41c-f62f-4633-e2ac-2c7a405ea93b"
      },
      "source": [
        "print(x_forecast)"
      ],
      "execution_count": 102,
      "outputs": [
        {
          "output_type": "stream",
          "text": [
            "[[98.25]]\n"
          ],
          "name": "stdout"
        }
      ]
    },
    {
      "cell_type": "code",
      "metadata": {
        "id": "24SaFGviAi4k"
      },
      "source": [
        "# Print the predictions for the next 'n' days\r\n",
        "lr_prediction = lr.predict(x_forecast)"
      ],
      "execution_count": 103,
      "outputs": []
    },
    {
      "cell_type": "code",
      "metadata": {
        "colab": {
          "base_uri": "https://localhost:8080/"
        },
        "id": "sddDW2WkAywE",
        "outputId": "7b36ce85-fd19-4dc2-9fbb-e9b7c758ff97"
      },
      "source": [
        "print(lr_prediction)"
      ],
      "execution_count": 104,
      "outputs": [
        {
          "output_type": "stream",
          "text": [
            "[98.30764449]\n"
          ],
          "name": "stdout"
        }
      ]
    },
    {
      "cell_type": "code",
      "metadata": {
        "id": "TXNiD3ybA9FZ"
      },
      "source": [
        "# Print the predictions for the next 'n' days\r\n",
        "svm_prediction = svr_rbf.predict(x_forecast)"
      ],
      "execution_count": 105,
      "outputs": []
    },
    {
      "cell_type": "code",
      "metadata": {
        "colab": {
          "base_uri": "https://localhost:8080/"
        },
        "id": "wIuFmWm9BAQw",
        "outputId": "e882fcba-53be-4549-f0ae-cedc0f9f2d93"
      },
      "source": [
        "print(svm_prediction)"
      ],
      "execution_count": 106,
      "outputs": [
        {
          "output_type": "stream",
          "text": [
            "[98.50443508]\n"
          ],
          "name": "stdout"
        }
      ]
    }
  ]
}