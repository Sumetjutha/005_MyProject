{
  "nbformat": 4,
  "nbformat_minor": 0,
  "metadata": {
    "colab": {
      "name": "28_Heart_Desease_Detection.ipynb",
      "private_outputs": true,
      "provenance": [],
      "mount_file_id": "1oTIyVMucQXKWnS87mG8x8wWY2zYqMe-Y",
      "authorship_tag": "ABX9TyPq3DyJ6Lz6gfx7Er1cY5jA",
      "include_colab_link": true
    },
    "kernelspec": {
      "name": "python3",
      "display_name": "Python 3"
    },
    "language_info": {
      "name": "python"
    }
  },
  "cells": [
    {
      "cell_type": "markdown",
      "metadata": {
        "id": "view-in-github",
        "colab_type": "text"
      },
      "source": [
        "<a href=\"https://colab.research.google.com/github/Sumetjutha/MyProject/blob/main/28_Heart_Desease_Detection.ipynb\" target=\"_parent\"><img src=\"https://colab.research.google.com/assets/colab-badge.svg\" alt=\"Open In Colab\"/></a>"
      ]
    },
    {
      "cell_type": "code",
      "metadata": {
        "id": "b6RXAtNO9Nn7"
      },
      "source": [
        "# Import library\n",
        "from sklearn.metrics import confusion_matrix, classification_report\n",
        "import seaborn as sns\n",
        "import matplotlib.pyplot as plt\n",
        "from sklearn import preprocessing\n",
        "import statsmodels.api as sm\n",
        "import numpy as np\n",
        "import pylab as pl\n",
        "import pandas as pd\n",
        "from sklearn.model_selection import train_test_split\n",
        "from sklearn.metrics import jaccard_score"
      ],
      "execution_count": null,
      "outputs": []
    },
    {
      "cell_type": "code",
      "metadata": {
        "id": "VzXtjkyC_F4L"
      },
      "source": [
        "# Read Dataset\n",
        "chd_data = pd.read_csv('/content/drive/MyDrive/Datasets_all/massachusetts.csv')\n",
        "chd_data.drop(['education'], inplace=True, axis=1)"
      ],
      "execution_count": null,
      "outputs": []
    },
    {
      "cell_type": "code",
      "metadata": {
        "id": "Fi1pPwc0Avcq"
      },
      "source": [
        "# Removing Nan\n",
        "chd_data.dropna(axis=0, inplace=True)\n",
        "print(chd_data.head(), chd_data.shape)\n",
        "print(chd_data.TenYearCHD.value_counts())"
      ],
      "execution_count": null,
      "outputs": []
    },
    {
      "cell_type": "code",
      "metadata": {
        "id": "0PelzC7oBB-q"
      },
      "source": [
        "# Counting no. of patients affected with CHD\n",
        "plt.figure(figsize=(10,8))\n",
        "sns.countplot(x = \"TenYearCHD\", data=chd_data, palette='Set2')\n",
        "plt.show()"
      ],
      "execution_count": null,
      "outputs": []
    },
    {
      "cell_type": "code",
      "metadata": {
        "id": "Ida9IOV6CYVx"
      },
      "source": [
        "# Train and test sets\n",
        "x = np.asarray(chd_data[['age', 'male', 'cigsPerDay', 'totChol', 'glucose']])\n",
        "y = np.asarray(chd_data['TenYearCHD'])"
      ],
      "execution_count": null,
      "outputs": []
    },
    {
      "cell_type": "code",
      "metadata": {
        "id": "n8eD5_vtDPv4"
      },
      "source": [
        "# Normalize the dataset\n",
        "x = preprocessing.StandardScaler().fit(x).transform(x)"
      ],
      "execution_count": null,
      "outputs": []
    },
    {
      "cell_type": "code",
      "metadata": {
        "id": "Z64c7qmHD0-g"
      },
      "source": [
        "# Actually train and test x and y sets\n",
        "x_train, x_test, y_train, y_test = train_test_split(x, y, test_size = 0.3, random_state=4)\n",
        "print('Train set: ', x_train.shape, y_train.shape)\n",
        "print('Test set: ', x_test.shape, y_test.shape)"
      ],
      "execution_count": null,
      "outputs": []
    },
    {
      "cell_type": "code",
      "metadata": {
        "id": "W1ipre8vEikh"
      },
      "source": [
        "# Modeling the dataset\n",
        "from sklearn.linear_model import LogisticRegression\n",
        "log_reg = LogisticRegression()\n",
        "log_reg.fit(x_train, y_train)\n",
        "y_pred = log_reg.predict(x_test)"
      ],
      "execution_count": null,
      "outputs": []
    },
    {
      "cell_type": "code",
      "metadata": {
        "id": "zC727YbgH4_g"
      },
      "source": [
        "# Evaluation and accuracy\n",
        "print('')\n",
        "print('Accuracy of the model in Jaccard score is : ',\n",
        "      jaccard_score(y_test, y_pred).round(2))"
      ],
      "execution_count": null,
      "outputs": []
    },
    {
      "cell_type": "code",
      "metadata": {
        "id": "_P38s7sZIWa6"
      },
      "source": [
        "# Confusion Matrix\n",
        "cm = confusion_matrix(y_test, y_pred)\n",
        "cm_setup = pd.DataFrame(data = cm, columns = ['Predicted : 0', 'Predicted : 1'],index = ['Actual:0', 'Actual:1'])\n",
        "plt.figure(figsize=(10,8))\n",
        "sns.heatmap(cm_setup, annot=True, fmt='d', cmap=\"Set2\")\n",
        "plt.show()"
      ],
      "execution_count": null,
      "outputs": []
    },
    {
      "cell_type": "code",
      "metadata": {
        "id": "2ZFntTM2MMbZ"
      },
      "source": [
        "print('The details for confusion matrix is : ')\n",
        "print(classification_report(y_test, y_pred))"
      ],
      "execution_count": null,
      "outputs": []
    }
  ]
}