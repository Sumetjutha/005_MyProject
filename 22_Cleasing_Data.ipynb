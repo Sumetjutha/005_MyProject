{
  "nbformat": 4,
  "nbformat_minor": 0,
  "metadata": {
    "colab": {
      "name": "22.Cleasing_Data.ipynb",
      "provenance": [],
      "mount_file_id": "1wxFzOQGjGjNtTbDSQUy-9HugALViToeR",
      "authorship_tag": "ABX9TyNl1kd6ffYx0j6+0eY5ZhZV",
      "include_colab_link": true
    },
    "kernelspec": {
      "name": "python3",
      "display_name": "Python 3"
    }
  },
  "cells": [
    {
      "cell_type": "markdown",
      "metadata": {
        "id": "view-in-github",
        "colab_type": "text"
      },
      "source": [
        "<a href=\"https://colab.research.google.com/github/Sumetjutha/MyProject/blob/main/22_Cleasing_Data.ipynb\" target=\"_parent\"><img src=\"https://colab.research.google.com/assets/colab-badge.svg\" alt=\"Open In Colab\"/></a>"
      ]
    },
    {
      "cell_type": "code",
      "metadata": {
        "id": "UpSL2BHyCnBC"
      },
      "source": [
        "import pandas as pd\r\n",
        "import numpy as np"
      ],
      "execution_count": null,
      "outputs": []
    },
    {
      "cell_type": "code",
      "metadata": {
        "colab": {
          "base_uri": "https://localhost:8080/"
        },
        "id": "nWJSwoP5DUy2",
        "outputId": "a1488cf0-e189-4b56-9ccc-5daf3fc55923"
      },
      "source": [
        "df=np.random.randn(5, 3)\r\n",
        "print(df)"
      ],
      "execution_count": null,
      "outputs": [
        {
          "output_type": "stream",
          "text": [
            "[[ 2.1345653   0.28472337 -1.08294174]\n",
            " [-2.58223014 -1.4468391   0.24568364]\n",
            " [-0.23461917 -0.1302645  -0.63575551]\n",
            " [-0.54102467  0.40986625  1.4440222 ]\n",
            " [-1.07949129 -0.70382138 -2.02958724]]\n"
          ],
          "name": "stdout"
        }
      ]
    },
    {
      "cell_type": "code",
      "metadata": {
        "id": "3smKJm1iDYaP"
      },
      "source": [
        "df = pd.DataFrame(df, index=['a', 'c', 'e', 'f','h'],columns=['one', 'two', 'three'])"
      ],
      "execution_count": null,
      "outputs": []
    },
    {
      "cell_type": "code",
      "metadata": {
        "colab": {
          "base_uri": "https://localhost:8080/"
        },
        "id": "Weu3D95uDfCO",
        "outputId": "db4602bf-9573-4e20-c733-17ed9efccbb1"
      },
      "source": [
        "print(df)"
      ],
      "execution_count": null,
      "outputs": [
        {
          "output_type": "stream",
          "text": [
            "        one       two     three\n",
            "a  2.134565  0.284723 -1.082942\n",
            "c -2.582230 -1.446839  0.245684\n",
            "e -0.234619 -0.130265 -0.635756\n",
            "f -0.541025  0.409866  1.444022\n",
            "h -1.079491 -0.703821 -2.029587\n"
          ],
          "name": "stdout"
        }
      ]
    },
    {
      "cell_type": "code",
      "metadata": {
        "id": "eRUWQkc1DkF-"
      },
      "source": [
        "df = df.reindex(['a', 'b', 'c', 'd', 'e', 'f', 'g', 'h'])"
      ],
      "execution_count": null,
      "outputs": []
    },
    {
      "cell_type": "code",
      "metadata": {
        "colab": {
          "base_uri": "https://localhost:8080/"
        },
        "id": "cTg_k6uDDtOu",
        "outputId": "89ef19cf-465e-42cb-c7ee-4b9c74a8f684"
      },
      "source": [
        "print(df)"
      ],
      "execution_count": null,
      "outputs": [
        {
          "output_type": "stream",
          "text": [
            "        one       two     three\n",
            "a  2.134565  0.284723 -1.082942\n",
            "b       NaN       NaN       NaN\n",
            "c -2.582230 -1.446839  0.245684\n",
            "d       NaN       NaN       NaN\n",
            "e -0.234619 -0.130265 -0.635756\n",
            "f -0.541025  0.409866  1.444022\n",
            "g       NaN       NaN       NaN\n",
            "h -1.079491 -0.703821 -2.029587\n"
          ],
          "name": "stdout"
        }
      ]
    },
    {
      "cell_type": "code",
      "metadata": {
        "colab": {
          "base_uri": "https://localhost:8080/"
        },
        "id": "eWx-jSphDu5F",
        "outputId": "8406fab5-cce7-412e-c745-b6780909ca4e"
      },
      "source": [
        "## Check Missing\r\n",
        "print(df['one'].isnull())"
      ],
      "execution_count": null,
      "outputs": [
        {
          "output_type": "stream",
          "text": [
            "a    False\n",
            "b     True\n",
            "c    False\n",
            "d     True\n",
            "e    False\n",
            "f    False\n",
            "g     True\n",
            "h    False\n",
            "Name: one, dtype: bool\n"
          ],
          "name": "stdout"
        }
      ]
    },
    {
      "cell_type": "code",
      "metadata": {
        "id": "JlkAyjuJD6c9"
      },
      "source": [
        "df = df.reindex(['a', 'b', 'c'])"
      ],
      "execution_count": null,
      "outputs": []
    },
    {
      "cell_type": "code",
      "metadata": {
        "id": "gKjcgMPSEPs-"
      },
      "source": [
        "df.fillna(method='pad')"
      ],
      "execution_count": null,
      "outputs": []
    },
    {
      "cell_type": "code",
      "metadata": {
        "colab": {
          "base_uri": "https://localhost:8080/",
          "height": 297
        },
        "id": "HeJ2ASE5FdQ2",
        "outputId": "dc868684-495c-4206-b69e-95448fb079fa"
      },
      "source": [
        "## Fill missing=na with 0\r\n",
        "df.fillna(0)"
      ],
      "execution_count": null,
      "outputs": [
        {
          "output_type": "execute_result",
          "data": {
            "text/html": [
              "<div>\n",
              "<style scoped>\n",
              "    .dataframe tbody tr th:only-of-type {\n",
              "        vertical-align: middle;\n",
              "    }\n",
              "\n",
              "    .dataframe tbody tr th {\n",
              "        vertical-align: top;\n",
              "    }\n",
              "\n",
              "    .dataframe thead th {\n",
              "        text-align: right;\n",
              "    }\n",
              "</style>\n",
              "<table border=\"1\" class=\"dataframe\">\n",
              "  <thead>\n",
              "    <tr style=\"text-align: right;\">\n",
              "      <th></th>\n",
              "      <th>one</th>\n",
              "      <th>two</th>\n",
              "      <th>three</th>\n",
              "    </tr>\n",
              "  </thead>\n",
              "  <tbody>\n",
              "    <tr>\n",
              "      <th>a</th>\n",
              "      <td>2.134565</td>\n",
              "      <td>0.284723</td>\n",
              "      <td>-1.082942</td>\n",
              "    </tr>\n",
              "    <tr>\n",
              "      <th>b</th>\n",
              "      <td>0.000000</td>\n",
              "      <td>0.000000</td>\n",
              "      <td>0.000000</td>\n",
              "    </tr>\n",
              "    <tr>\n",
              "      <th>c</th>\n",
              "      <td>-2.582230</td>\n",
              "      <td>-1.446839</td>\n",
              "      <td>0.245684</td>\n",
              "    </tr>\n",
              "    <tr>\n",
              "      <th>d</th>\n",
              "      <td>0.000000</td>\n",
              "      <td>0.000000</td>\n",
              "      <td>0.000000</td>\n",
              "    </tr>\n",
              "    <tr>\n",
              "      <th>e</th>\n",
              "      <td>-0.234619</td>\n",
              "      <td>-0.130265</td>\n",
              "      <td>-0.635756</td>\n",
              "    </tr>\n",
              "    <tr>\n",
              "      <th>f</th>\n",
              "      <td>-0.541025</td>\n",
              "      <td>0.409866</td>\n",
              "      <td>1.444022</td>\n",
              "    </tr>\n",
              "    <tr>\n",
              "      <th>g</th>\n",
              "      <td>0.000000</td>\n",
              "      <td>0.000000</td>\n",
              "      <td>0.000000</td>\n",
              "    </tr>\n",
              "    <tr>\n",
              "      <th>h</th>\n",
              "      <td>-1.079491</td>\n",
              "      <td>-0.703821</td>\n",
              "      <td>-2.029587</td>\n",
              "    </tr>\n",
              "  </tbody>\n",
              "</table>\n",
              "</div>"
            ],
            "text/plain": [
              "        one       two     three\n",
              "a  2.134565  0.284723 -1.082942\n",
              "b  0.000000  0.000000  0.000000\n",
              "c -2.582230 -1.446839  0.245684\n",
              "d  0.000000  0.000000  0.000000\n",
              "e -0.234619 -0.130265 -0.635756\n",
              "f -0.541025  0.409866  1.444022\n",
              "g  0.000000  0.000000  0.000000\n",
              "h -1.079491 -0.703821 -2.029587"
            ]
          },
          "metadata": {
            "tags": []
          },
          "execution_count": 12
        }
      ]
    },
    {
      "cell_type": "code",
      "metadata": {
        "colab": {
          "base_uri": "https://localhost:8080/",
          "height": 297
        },
        "id": "zrguw8rMFVL1",
        "outputId": "f76cb8c2-5f8f-437f-fc42-5be8c5d22fc0"
      },
      "source": [
        "## fill na with forward filling\r\n",
        "df.fillna(method='ffill')"
      ],
      "execution_count": null,
      "outputs": [
        {
          "output_type": "execute_result",
          "data": {
            "text/html": [
              "<div>\n",
              "<style scoped>\n",
              "    .dataframe tbody tr th:only-of-type {\n",
              "        vertical-align: middle;\n",
              "    }\n",
              "\n",
              "    .dataframe tbody tr th {\n",
              "        vertical-align: top;\n",
              "    }\n",
              "\n",
              "    .dataframe thead th {\n",
              "        text-align: right;\n",
              "    }\n",
              "</style>\n",
              "<table border=\"1\" class=\"dataframe\">\n",
              "  <thead>\n",
              "    <tr style=\"text-align: right;\">\n",
              "      <th></th>\n",
              "      <th>one</th>\n",
              "      <th>two</th>\n",
              "      <th>three</th>\n",
              "    </tr>\n",
              "  </thead>\n",
              "  <tbody>\n",
              "    <tr>\n",
              "      <th>a</th>\n",
              "      <td>2.134565</td>\n",
              "      <td>0.284723</td>\n",
              "      <td>-1.082942</td>\n",
              "    </tr>\n",
              "    <tr>\n",
              "      <th>b</th>\n",
              "      <td>2.134565</td>\n",
              "      <td>0.284723</td>\n",
              "      <td>-1.082942</td>\n",
              "    </tr>\n",
              "    <tr>\n",
              "      <th>c</th>\n",
              "      <td>-2.582230</td>\n",
              "      <td>-1.446839</td>\n",
              "      <td>0.245684</td>\n",
              "    </tr>\n",
              "    <tr>\n",
              "      <th>d</th>\n",
              "      <td>-2.582230</td>\n",
              "      <td>-1.446839</td>\n",
              "      <td>0.245684</td>\n",
              "    </tr>\n",
              "    <tr>\n",
              "      <th>e</th>\n",
              "      <td>-0.234619</td>\n",
              "      <td>-0.130265</td>\n",
              "      <td>-0.635756</td>\n",
              "    </tr>\n",
              "    <tr>\n",
              "      <th>f</th>\n",
              "      <td>-0.541025</td>\n",
              "      <td>0.409866</td>\n",
              "      <td>1.444022</td>\n",
              "    </tr>\n",
              "    <tr>\n",
              "      <th>g</th>\n",
              "      <td>-0.541025</td>\n",
              "      <td>0.409866</td>\n",
              "      <td>1.444022</td>\n",
              "    </tr>\n",
              "    <tr>\n",
              "      <th>h</th>\n",
              "      <td>-1.079491</td>\n",
              "      <td>-0.703821</td>\n",
              "      <td>-2.029587</td>\n",
              "    </tr>\n",
              "  </tbody>\n",
              "</table>\n",
              "</div>"
            ],
            "text/plain": [
              "        one       two     three\n",
              "a  2.134565  0.284723 -1.082942\n",
              "b  2.134565  0.284723 -1.082942\n",
              "c -2.582230 -1.446839  0.245684\n",
              "d -2.582230 -1.446839  0.245684\n",
              "e -0.234619 -0.130265 -0.635756\n",
              "f -0.541025  0.409866  1.444022\n",
              "g -0.541025  0.409866  1.444022\n",
              "h -1.079491 -0.703821 -2.029587"
            ]
          },
          "metadata": {
            "tags": []
          },
          "execution_count": 13
        }
      ]
    }
  ]
}