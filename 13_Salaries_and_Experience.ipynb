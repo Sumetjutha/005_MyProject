{
  "nbformat": 4,
  "nbformat_minor": 0,
  "metadata": {
    "colab": {
      "name": "13_Salaries_and_Experience.ipynb",
      "provenance": [],
      "collapsed_sections": [],
      "mount_file_id": "1WH2M-0ZgzZ_age3qroUrwNcCEqUsKTYt",
      "authorship_tag": "ABX9TyM9gl0AV0vqUUzQUOP1lx88",
      "include_colab_link": true
    },
    "kernelspec": {
      "name": "python3",
      "display_name": "Python 3"
    }
  },
  "cells": [
    {
      "cell_type": "markdown",
      "metadata": {
        "id": "view-in-github",
        "colab_type": "text"
      },
      "source": [
        "<a href=\"https://colab.research.google.com/github/Sumetjutha/MyProject/blob/main/13_Salaries_and_Experience.ipynb\" target=\"_parent\"><img src=\"https://colab.research.google.com/assets/colab-badge.svg\" alt=\"Open In Colab\"/></a>"
      ]
    },
    {
      "cell_type": "code",
      "metadata": {
        "colab": {
          "base_uri": "https://localhost:8080/"
        },
        "id": "tCExHBdpJ2Y5",
        "outputId": "0a88e18d-4627-43b9-dda4-a8e6320803da"
      },
      "source": [
        "# at this stage in the book we haven't actually installed matplotlib,\r\n",
        "# comment this out if you need to\r\n",
        "from matplotlib import pyplot as plt\r\n",
        "\r\n",
        "##########################\r\n",
        "#                        #\r\n",
        "# FINDING KEY CONNECTORS #\r\n",
        "#                        #\r\n",
        "##########################\r\n",
        "\r\n",
        "users = [\r\n",
        "    { \"id\": 0, \"name\": \"Hero\" },\r\n",
        "    { \"id\": 1, \"name\": \"Dunn\" },\r\n",
        "    { \"id\": 2, \"name\": \"Sue\" },\r\n",
        "    { \"id\": 3, \"name\": \"Chi\" },\r\n",
        "    { \"id\": 4, \"name\": \"Thor\" },\r\n",
        "    { \"id\": 5, \"name\": \"Clive\" },\r\n",
        "    { \"id\": 6, \"name\": \"Hicks\" },\r\n",
        "    { \"id\": 7, \"name\": \"Devin\" },\r\n",
        "    { \"id\": 8, \"name\": \"Kate\" },\r\n",
        "    { \"id\": 9, \"name\": \"Klein\" },\r\n",
        "    { \"id\": 10, \"name\": \"Jen\" }\r\n",
        "]\r\n",
        "\r\n",
        "friendships = [(0, 1), (0, 2), (1, 2), (1, 3), (2, 3), (3, 4),\r\n",
        "               (4, 5), (5, 6), (5, 7), (6, 8), (7, 8), (8, 9)]\r\n",
        "\r\n",
        "\r\n",
        "# first give each user an empty list\r\n",
        "for user in users:\r\n",
        "    user[\"friends\"] = []\r\n",
        "\r\n",
        "# and then populate the lists with friendships\r\n",
        "for i, j in friendships:\r\n",
        "    # this works because users[i] is the user whose id is i\r\n",
        "    users[i][\"friends\"].append(users[j]) # add i as a friend of j\r\n",
        "    users[j][\"friends\"].append(users[i]) # add j as a friend of i\r\n",
        "\r\n",
        "def number_of_friends(user):\r\n",
        "    \"\"\"how many friends does _user_ have?\"\"\"\r\n",
        "    return len(user[\"friends\"]) # length of friend_ids list\r\n",
        "\r\n",
        "total_connections = sum(number_of_friends(user)\r\n",
        "                        for user in users) # 24\r\n",
        "\r\n",
        "num_users = len(users)\r\n",
        "avg_connections = total_connections / num_users # 2.4\r\n",
        "\r\n",
        "################################\r\n",
        "#                              #\r\n",
        "# DATA SCIENTISTS YOU MAY KNOW #\r\n",
        "#                              #\r\n",
        "################################\r\n",
        "\r\n",
        "def friends_of_friend_ids_bad(user):\r\n",
        "    # \"foaf\" is short for \"friend of a friend\"\r\n",
        "    return [foaf[\"id\"]\r\n",
        "            for friend in user[\"friends\"] # for each of user's friends\r\n",
        "            for foaf in friend[\"friends\"]] # get each of _their_ friends\r\n",
        "\r\n",
        "from collections import Counter # not loaded by default\r\n",
        "\r\n",
        "def not_the_same(user, other_user):\r\n",
        "    \"\"\"two users are not the same if they have different ids\"\"\"\r\n",
        "    return user[\"id\"] != other_user[\"id\"]\r\n",
        "\r\n",
        "def not_friends(user, other_user):\r\n",
        "    \"\"\"other_user is not a friend if he's not in user[\"friends\"];\r\n",
        "    that is, if he's not_the_same as all the people in user[\"friends\"]\"\"\"\r\n",
        "    return all(not_the_same(friend, other_user)\r\n",
        "               for friend in user[\"friends\"])\r\n",
        "\r\n",
        "def friends_of_friend_ids(user):\r\n",
        "    return Counter(foaf[\"id\"]\r\n",
        "                   for friend in user[\"friends\"]  # for each of my friends\r\n",
        "                   for foaf in friend[\"friends\"]  # count *their* friends\r\n",
        "                   if not_the_same(user, foaf)    # who aren't me\r\n",
        "                   and not_friends(user, foaf))   # and aren't my friends\r\n",
        "\r\n",
        "print(friends_of_friend_ids(users[3])) # Counter({0: 2, 5: 1})\r\n",
        "\r\n",
        "interests = [\r\n",
        "    (0, \"Hadoop\"), (0, \"Big Data\"), (0, \"HBase\"), (0, \"Java\"),\r\n",
        "    (0, \"Spark\"), (0, \"Storm\"), (0, \"Cassandra\"),\r\n",
        "    (1, \"NoSQL\"), (1, \"MongoDB\"), (1, \"Cassandra\"), (1, \"HBase\"),\r\n",
        "    (1, \"Postgres\"), (2, \"Python\"), (2, \"scikit-learn\"), (2, \"scipy\"),\r\n",
        "    (2, \"numpy\"), (2, \"statsmodels\"), (2, \"pandas\"), (3, \"R\"), (3, \"Python\"),\r\n",
        "    (3, \"statistics\"), (3, \"regression\"), (3, \"probability\"),\r\n",
        "    (4, \"machine learning\"), (4, \"regression\"), (4, \"decision trees\"),\r\n",
        "    (4, \"libsvm\"), (5, \"Python\"), (5, \"R\"), (5, \"Java\"), (5, \"C++\"),\r\n",
        "    (5, \"Haskell\"), (5, \"programming languages\"), (6, \"statistics\"),\r\n",
        "    (6, \"probability\"), (6, \"mathematics\"), (6, \"theory\"),\r\n",
        "    (7, \"machine learning\"), (7, \"scikit-learn\"), (7, \"Mahout\"),\r\n",
        "    (7, \"neural networks\"), (8, \"neural networks\"), (8, \"deep learning\"),\r\n",
        "    (8, \"Big Data\"), (8, \"artificial intelligence\"), (9, \"Hadoop\"),\r\n",
        "    (9, \"Java\"), (9, \"MapReduce\"), (9, \"Big Data\")\r\n",
        "]\r\n",
        "\r\n",
        "def data_scientists_who_like(target_interest):\r\n",
        "    return [user_id\r\n",
        "            for user_id, user_interest in interests\r\n",
        "            if user_interest == target_interest]\r\n",
        "\r\n",
        "from collections import defaultdict\r\n",
        "\r\n",
        "# keys are interests, values are lists of user_ids with that interest\r\n",
        "user_ids_by_interest = defaultdict(list)\r\n",
        "\r\n",
        "for user_id, interest in interests:\r\n",
        "    user_ids_by_interest[interest].append(user_id)\r\n",
        "\r\n",
        "# keys are user_ids, values are lists of interests for that user_id\r\n",
        "interests_by_user_id = defaultdict(list)\r\n",
        "\r\n",
        "for user_id, interest in interests:\r\n",
        "    interests_by_user_id[user_id].append(interest)\r\n",
        "\r\n",
        "def most_common_interests_with(user_id):\r\n",
        "    return Counter(interested_user_id\r\n",
        "        for interest in interests_by_user_id[\"user_id\"]\r\n",
        "        for interested_user_id in user_ids_by_interest[interest]\r\n",
        "        if interested_user_id != user_id)"
      ],
      "execution_count": 1,
      "outputs": [
        {
          "output_type": "stream",
          "text": [
            "Counter({0: 2, 5: 1})\n"
          ],
          "name": "stdout"
        }
      ]
    },
    {
      "cell_type": "code",
      "metadata": {
        "id": "vo50u9njLD3g"
      },
      "source": [
        "salaries_and_tenures = [(83000,8.7),(88000,8.1),\r\n",
        "                        (48000,0.7),(76000,6),\r\n",
        "                        (69000,6.5),(76000,7.5),\r\n",
        "                        (60000,2.5),(83000,10),\r\n",
        "                        (48000,1.9),(63000,4.2)]"
      ],
      "execution_count": 2,
      "outputs": []
    },
    {
      "cell_type": "code",
      "metadata": {
        "id": "esjuRbGdLj9r"
      },
      "source": [
        "def make_chart_salaries_by_tenure():\r\n",
        "  tenures = [tenure for salary, tenure in salaries_and_tenures]\r\n",
        "  salaries = [salary for salary, tenure in salaries_and_tenures]\r\n",
        "  plt.scatter(tenures, salaries)\r\n",
        "  plt.xlabel(\"Year Experience\")\r\n",
        "  plt.ylabel(\"Salary\")\r\n",
        "  plt.show()"
      ],
      "execution_count": 3,
      "outputs": []
    },
    {
      "cell_type": "code",
      "metadata": {
        "colab": {
          "base_uri": "https://localhost:8080/"
        },
        "id": "B8sImoamMWuw",
        "outputId": "5afd6369-4a8d-4288-d0b1-dea249bdf249"
      },
      "source": [
        "print(make_chart_salaries_by_tenure)\r\n",
        "plt.show()"
      ],
      "execution_count": 5,
      "outputs": [
        {
          "output_type": "stream",
          "text": [
            "<function make_chart_salaries_by_tenure at 0x7fe0ebd75ae8>\n"
          ],
          "name": "stdout"
        }
      ]
    },
    {
      "cell_type": "code",
      "metadata": {
        "id": "PQ2Iw0V3MuuL"
      },
      "source": [
        "# keys are years\r\n",
        "# values are the salaries for each tenure\r\n",
        "salary_by_tenure = defaultdict(list)"
      ],
      "execution_count": 6,
      "outputs": []
    },
    {
      "cell_type": "code",
      "metadata": {
        "id": "bV04K8wqNDKf"
      },
      "source": [
        "for salary, tenure in salaries_and_tenures:\r\n",
        "    salary_by_tenure[tenure].append(salary)"
      ],
      "execution_count": 7,
      "outputs": []
    },
    {
      "cell_type": "code",
      "metadata": {
        "id": "9xNuVj4aNQsv"
      },
      "source": [
        "average_salary_by_tenure = {\r\n",
        "    tenure : sum(salaries) / len(salaries)\r\n",
        "    for tenure, salaries in salary_by_tenure.items()\r\n",
        "}"
      ],
      "execution_count": 8,
      "outputs": []
    },
    {
      "cell_type": "code",
      "metadata": {
        "id": "sa63lCLaNivL"
      },
      "source": [
        "def tenure_bucket(tenure):\r\n",
        "    if tenure < 2: return \"less than two\"\r\n",
        "    elif tenure < 5: return \"between two and five\"\r\n",
        "    else: return \"more than five\""
      ],
      "execution_count": 9,
      "outputs": []
    },
    {
      "cell_type": "code",
      "metadata": {
        "id": "5ErGWyeZN5GX"
      },
      "source": [
        "salary_by_tenure_bucket = defaultdict(list)"
      ],
      "execution_count": 10,
      "outputs": []
    },
    {
      "cell_type": "code",
      "metadata": {
        "id": "ox1ZfMssOA6u"
      },
      "source": [
        "for salary, tenure in salaries_and_tenures:\r\n",
        "    bucket = tenure_bucket(tenure)\r\n",
        "    salary_by_tenure_bucket[bucket].append(salary)"
      ],
      "execution_count": 11,
      "outputs": []
    },
    {
      "cell_type": "code",
      "metadata": {
        "id": "jgpXkR-rOtz7"
      },
      "source": [
        "average_salary_by_tenure = {\r\n",
        "    tenure_bucket : sum(salaries) / len(salaries)\r\n",
        "    for tenure_bucket, salaries in salary_by_tenure_bucket.items()\r\n",
        "}"
      ],
      "execution_count": 12,
      "outputs": []
    }
  ]
}