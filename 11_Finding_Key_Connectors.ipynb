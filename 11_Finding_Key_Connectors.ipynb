{
  "nbformat": 4,
  "nbformat_minor": 0,
  "metadata": {
    "colab": {
      "name": "11_Finding_Key_Connectors.ipynb",
      "provenance": [],
      "collapsed_sections": [],
      "mount_file_id": "1hwvprFL6XDx1p7e5K75ztWsL2tfrpU24",
      "authorship_tag": "ABX9TyNa/ghiUsSLk9x1fo6RIrwl",
      "include_colab_link": true
    },
    "kernelspec": {
      "name": "python3",
      "display_name": "Python 3"
    }
  },
  "cells": [
    {
      "cell_type": "markdown",
      "metadata": {
        "id": "view-in-github",
        "colab_type": "text"
      },
      "source": [
        "<a href=\"https://colab.research.google.com/github/Sumetjutha/MyProject/blob/main/11_Finding_Key_Connectors.ipynb\" target=\"_parent\"><img src=\"https://colab.research.google.com/assets/colab-badge.svg\" alt=\"Open In Colab\"/></a>"
      ]
    },
    {
      "cell_type": "code",
      "metadata": {
        "id": "OasgunnYgFrM"
      },
      "source": [
        "from __future__ import division\r\n",
        "\r\n",
        "# at this stage in the book we haven't actually installed matplotlib,\r\n",
        "# comment this out if you need to\r\n",
        "from matplotlib import pyplot as plt"
      ],
      "execution_count": null,
      "outputs": []
    },
    {
      "cell_type": "code",
      "metadata": {
        "id": "7P-7awD5hdE8"
      },
      "source": [
        "users = [\r\n",
        "         {\"id\":0,\"names\":\"Hero\"},\r\n",
        "         {\"id\":1,\"names\":\"Dunn\"},\r\n",
        "         {\"id\":2,\"names\":\"Sue\"},\r\n",
        "         {\"id\":3,\"names\":\"Chi\"},\r\n",
        "         {\"id\":4,\"names\":\"Thor\"},\r\n",
        "         {\"id\":5,\"names\":\"Clive\"},\r\n",
        "         {\"id\":6,\"names\":\"Hicks\"},\r\n",
        "         {\"id\":7,\"names\":\"Devin\"},\r\n",
        "         {\"id\":8,\"names\":\"Kate\"},\r\n",
        "         {\"id\":9,\"names\":\"Klein\"}\r\n",
        "]"
      ],
      "execution_count": null,
      "outputs": []
    },
    {
      "cell_type": "code",
      "metadata": {
        "id": "8FNCXgZXiUAM"
      },
      "source": [
        "friendships = [(0,1),(0,2),(1,2),(1,3),(2,3),(3,4),(4,5),(5,6),(5,7),\r\n",
        "                    (6,8),(7,8),(8,9)]"
      ],
      "execution_count": null,
      "outputs": []
    },
    {
      "cell_type": "code",
      "metadata": {
        "id": "f5lvY_ngjXov"
      },
      "source": [
        "# first give each user an empty list\r\n",
        "for user in users:\r\n",
        "    user[\"friends\"] = []"
      ],
      "execution_count": null,
      "outputs": []
    },
    {
      "cell_type": "code",
      "metadata": {
        "id": "UOjDQqzxkXFY"
      },
      "source": [
        "# and then populate the lists with friendships\r\n",
        "for i, j in friendships:\r\n",
        "    # this works because users[i] is the user whose id is i\r\n",
        "    users[i][\"friends\"].append(users[j]) # add i as a friend of j\r\n",
        "    users[j][\"friends\"].append(users[i]) # add j as a friend of i"
      ],
      "execution_count": null,
      "outputs": []
    },
    {
      "cell_type": "code",
      "metadata": {
        "id": "hL-HjGJolTPA"
      },
      "source": [
        "def number_of_friends(user):\r\n",
        "    \"\"\"how many friends does _user_ have?\"\"\"\r\n",
        "    return len(user[\"friends\"]) # length of friend_ids list"
      ],
      "execution_count": null,
      "outputs": []
    },
    {
      "cell_type": "code",
      "metadata": {
        "id": "MYySNAerlfmP"
      },
      "source": [
        "total_connections = sum(number_of_friends(user) for user in users)"
      ],
      "execution_count": null,
      "outputs": []
    },
    {
      "cell_type": "code",
      "metadata": {
        "colab": {
          "base_uri": "https://localhost:8080/"
        },
        "id": "mCTadUzil975",
        "outputId": "d05005b6-bf03-4ee9-b2ab-3137354a11fb"
      },
      "source": [
        "print(total_connections)"
      ],
      "execution_count": null,
      "outputs": [
        {
          "output_type": "stream",
          "text": [
            "24\n"
          ],
          "name": "stdout"
        }
      ]
    },
    {
      "cell_type": "code",
      "metadata": {
        "id": "oZXhxd6mlqUb"
      },
      "source": [
        "num_users = len(users)"
      ],
      "execution_count": null,
      "outputs": []
    },
    {
      "cell_type": "code",
      "metadata": {
        "colab": {
          "base_uri": "https://localhost:8080/"
        },
        "id": "z8kCsO4NmE01",
        "outputId": "57edf22c-d561-474c-fbb1-36e6943449a0"
      },
      "source": [
        "print(num_users)"
      ],
      "execution_count": null,
      "outputs": [
        {
          "output_type": "stream",
          "text": [
            "10\n"
          ],
          "name": "stdout"
        }
      ]
    },
    {
      "cell_type": "code",
      "metadata": {
        "id": "WA0K3omilrhV"
      },
      "source": [
        "avg_connections = total_connections / num_users "
      ],
      "execution_count": null,
      "outputs": []
    },
    {
      "cell_type": "code",
      "metadata": {
        "colab": {
          "base_uri": "https://localhost:8080/"
        },
        "id": "dBZ1VG4el7ZT",
        "outputId": "698255cc-6a61-4419-dd1b-6620713beb2d"
      },
      "source": [
        "print(avg_connections)"
      ],
      "execution_count": null,
      "outputs": [
        {
          "output_type": "stream",
          "text": [
            "2.4\n"
          ],
          "name": "stdout"
        }
      ]
    }
  ]
}